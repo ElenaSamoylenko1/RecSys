{
 "cells": [
  {
   "cell_type": "code",
   "execution_count": 1,
   "metadata": {
    "colab": {
     "base_uri": "https://localhost:8080/"
    },
    "executionInfo": {
     "elapsed": 5463,
     "status": "ok",
     "timestamp": 1645703733350,
     "user": {
      "displayName": "Елена Денисова",
      "photoUrl": "https://lh3.googleusercontent.com/a/default-user=s64",
      "userId": "14675858796253665620"
     },
     "user_tz": -180
    },
    "id": "bnf95NhELztN",
    "outputId": "c8fb0ae1-5222-40aa-f252-aa2401442ff6"
   },
   "outputs": [],
   "source": [
    "from pathlib import Path\n",
    "\n",
    "import numpy as np\n",
    "import pandas as pd\n",
    "from statsmodels.distributions.empirical_distribution import ECDF\n",
    "import matplotlib.pyplot as plt\n",
    "from torch.utils.data import Dataset"
   ]
  },
  {
   "cell_type": "code",
   "execution_count": 2,
   "metadata": {},
   "outputs": [
    {
     "name": "stdout",
     "output_type": "stream",
     "text": [
      "C:\\Users\\Elena\\PycharmProjects\\recsys\n"
     ]
    }
   ],
   "source": [
    "cd .."
   ]
  },
  {
   "cell_type": "code",
   "execution_count": 4,
   "metadata": {},
   "outputs": [],
   "source": [
    "path = 'data/ml-1m/'"
   ]
  },
  {
   "cell_type": "code",
   "execution_count": 5,
   "metadata": {
    "executionInfo": {
     "elapsed": 1674,
     "status": "ok",
     "timestamp": 1645703791002,
     "user": {
      "displayName": "Елена Денисова",
      "photoUrl": "https://lh3.googleusercontent.com/a/default-user=s64",
      "userId": "14675858796253665620"
     },
     "user_tz": -180
    },
    "id": "gq6ZoigEL7Kc"
   },
   "outputs": [],
   "source": [
    "users = pd.read_csv(\n",
    "    path+\"users.dat\",\n",
    "    sep=\"::\",\n",
    "    names=[\"user_id\", \"sex\", \"age_group\", \"occupation\", \"zip_code\"],\n",
    "    encoding='latin-1',\n",
    "    engine='python'\n",
    ")\n",
    "\n",
    "ratings = pd.read_csv(\n",
    "    path+\"ratings.dat\",\n",
    "    sep=\"::\",\n",
    "    names=[\"user_id\", \"movie_id\", \"rating\", \"unix_timestamp\"],\n",
    "    encoding='latin-1',\n",
    "    engine='python'\n",
    ")\n",
    "\n",
    "movies = pd.read_csv(\n",
    "    path+\"movies.dat\", sep=\"::\", names=[\"movie_id\", \"title\", \"genres\"],\n",
    "    encoding='latin-1',\n",
    "    engine='python'\n",
    ")"
   ]
  },
  {
   "cell_type": "code",
   "execution_count": 6,
   "metadata": {
    "colab": {
     "base_uri": "https://localhost:8080/",
     "height": 112
    },
    "executionInfo": {
     "elapsed": 427,
     "status": "ok",
     "timestamp": 1645703793743,
     "user": {
      "displayName": "Елена Денисова",
      "photoUrl": "https://lh3.googleusercontent.com/a/default-user=s64",
      "userId": "14675858796253665620"
     },
     "user_tz": -180
    },
    "id": "JFRxe5QgS9HI",
    "outputId": "38fc8789-6739-4e85-f8e7-a3aa8558d2bb"
   },
   "outputs": [
    {
     "data": {
      "text/html": [
       "<div>\n",
       "<style scoped>\n",
       "    .dataframe tbody tr th:only-of-type {\n",
       "        vertical-align: middle;\n",
       "    }\n",
       "\n",
       "    .dataframe tbody tr th {\n",
       "        vertical-align: top;\n",
       "    }\n",
       "\n",
       "    .dataframe thead th {\n",
       "        text-align: right;\n",
       "    }\n",
       "</style>\n",
       "<table border=\"1\" class=\"dataframe\">\n",
       "  <thead>\n",
       "    <tr style=\"text-align: right;\">\n",
       "      <th></th>\n",
       "      <th>user_id</th>\n",
       "      <th>sex</th>\n",
       "      <th>age_group</th>\n",
       "      <th>occupation</th>\n",
       "      <th>zip_code</th>\n",
       "    </tr>\n",
       "  </thead>\n",
       "  <tbody>\n",
       "    <tr>\n",
       "      <th>0</th>\n",
       "      <td>1</td>\n",
       "      <td>F</td>\n",
       "      <td>1</td>\n",
       "      <td>10</td>\n",
       "      <td>48067</td>\n",
       "    </tr>\n",
       "    <tr>\n",
       "      <th>1</th>\n",
       "      <td>2</td>\n",
       "      <td>M</td>\n",
       "      <td>56</td>\n",
       "      <td>16</td>\n",
       "      <td>70072</td>\n",
       "    </tr>\n",
       "  </tbody>\n",
       "</table>\n",
       "</div>"
      ],
      "text/plain": [
       "   user_id sex  age_group  occupation zip_code\n",
       "0        1   F          1          10    48067\n",
       "1        2   M         56          16    70072"
      ]
     },
     "execution_count": 6,
     "metadata": {},
     "output_type": "execute_result"
    }
   ],
   "source": [
    "users[:2]"
   ]
  },
  {
   "cell_type": "code",
   "execution_count": 7,
   "metadata": {
    "colab": {
     "base_uri": "https://localhost:8080/",
     "height": 112
    },
    "executionInfo": {
     "elapsed": 283,
     "status": "ok",
     "timestamp": 1645703795205,
     "user": {
      "displayName": "Елена Денисова",
      "photoUrl": "https://lh3.googleusercontent.com/a/default-user=s64",
      "userId": "14675858796253665620"
     },
     "user_tz": -180
    },
    "id": "vxRYoaCmS_0x",
    "outputId": "198345a9-2bea-49c5-ec4e-a7ae53229ada"
   },
   "outputs": [
    {
     "data": {
      "text/html": [
       "<div>\n",
       "<style scoped>\n",
       "    .dataframe tbody tr th:only-of-type {\n",
       "        vertical-align: middle;\n",
       "    }\n",
       "\n",
       "    .dataframe tbody tr th {\n",
       "        vertical-align: top;\n",
       "    }\n",
       "\n",
       "    .dataframe thead th {\n",
       "        text-align: right;\n",
       "    }\n",
       "</style>\n",
       "<table border=\"1\" class=\"dataframe\">\n",
       "  <thead>\n",
       "    <tr style=\"text-align: right;\">\n",
       "      <th></th>\n",
       "      <th>user_id</th>\n",
       "      <th>movie_id</th>\n",
       "      <th>rating</th>\n",
       "      <th>unix_timestamp</th>\n",
       "    </tr>\n",
       "  </thead>\n",
       "  <tbody>\n",
       "    <tr>\n",
       "      <th>0</th>\n",
       "      <td>1</td>\n",
       "      <td>1193</td>\n",
       "      <td>5</td>\n",
       "      <td>978300760</td>\n",
       "    </tr>\n",
       "    <tr>\n",
       "      <th>1</th>\n",
       "      <td>1</td>\n",
       "      <td>661</td>\n",
       "      <td>3</td>\n",
       "      <td>978302109</td>\n",
       "    </tr>\n",
       "  </tbody>\n",
       "</table>\n",
       "</div>"
      ],
      "text/plain": [
       "   user_id  movie_id  rating  unix_timestamp\n",
       "0        1      1193       5       978300760\n",
       "1        1       661       3       978302109"
      ]
     },
     "execution_count": 7,
     "metadata": {},
     "output_type": "execute_result"
    }
   ],
   "source": [
    "ratings[:2]"
   ]
  },
  {
   "cell_type": "code",
   "execution_count": 8,
   "metadata": {
    "colab": {
     "base_uri": "https://localhost:8080/",
     "height": 112
    },
    "executionInfo": {
     "elapsed": 6,
     "status": "ok",
     "timestamp": 1645703795484,
     "user": {
      "displayName": "Елена Денисова",
      "photoUrl": "https://lh3.googleusercontent.com/a/default-user=s64",
      "userId": "14675858796253665620"
     },
     "user_tz": -180
    },
    "id": "2vMd1n2xTBTb",
    "outputId": "1084afa9-ce3f-48c0-d88a-2d2087715c63"
   },
   "outputs": [
    {
     "data": {
      "text/html": [
       "<div>\n",
       "<style scoped>\n",
       "    .dataframe tbody tr th:only-of-type {\n",
       "        vertical-align: middle;\n",
       "    }\n",
       "\n",
       "    .dataframe tbody tr th {\n",
       "        vertical-align: top;\n",
       "    }\n",
       "\n",
       "    .dataframe thead th {\n",
       "        text-align: right;\n",
       "    }\n",
       "</style>\n",
       "<table border=\"1\" class=\"dataframe\">\n",
       "  <thead>\n",
       "    <tr style=\"text-align: right;\">\n",
       "      <th></th>\n",
       "      <th>movie_id</th>\n",
       "      <th>title</th>\n",
       "      <th>genres</th>\n",
       "    </tr>\n",
       "  </thead>\n",
       "  <tbody>\n",
       "    <tr>\n",
       "      <th>0</th>\n",
       "      <td>1</td>\n",
       "      <td>Toy Story (1995)</td>\n",
       "      <td>Animation|Children's|Comedy</td>\n",
       "    </tr>\n",
       "    <tr>\n",
       "      <th>1</th>\n",
       "      <td>2</td>\n",
       "      <td>Jumanji (1995)</td>\n",
       "      <td>Adventure|Children's|Fantasy</td>\n",
       "    </tr>\n",
       "  </tbody>\n",
       "</table>\n",
       "</div>"
      ],
      "text/plain": [
       "   movie_id             title                        genres\n",
       "0         1  Toy Story (1995)   Animation|Children's|Comedy\n",
       "1         2    Jumanji (1995)  Adventure|Children's|Fantasy"
      ]
     },
     "execution_count": 8,
     "metadata": {},
     "output_type": "execute_result"
    }
   ],
   "source": [
    "movies[:2]"
   ]
  },
  {
   "cell_type": "code",
   "execution_count": 9,
   "metadata": {
    "executionInfo": {
     "elapsed": 419,
     "status": "ok",
     "timestamp": 1645703796473,
     "user": {
      "displayName": "Елена Денисова",
      "photoUrl": "https://lh3.googleusercontent.com/a/default-user=s64",
      "userId": "14675858796253665620"
     },
     "user_tz": -180
    },
    "id": "PB6LEqOcL-8w"
   },
   "outputs": [],
   "source": [
    "ratings_df = pd.merge(ratings, movies)[['user_id', 'title', 'rating', 'unix_timestamp']]\n",
    "ratings_df[\"user_id\"] = ratings_df[\"user_id\"].astype(str)"
   ]
  },
  {
   "cell_type": "code",
   "execution_count": 10,
   "metadata": {
    "colab": {
     "base_uri": "https://localhost:8080/"
    },
    "executionInfo": {
     "elapsed": 5,
     "status": "ok",
     "timestamp": 1645703797344,
     "user": {
      "displayName": "Елена Денисова",
      "photoUrl": "https://lh3.googleusercontent.com/a/default-user=s64",
      "userId": "14675858796253665620"
     },
     "user_tz": -180
    },
    "id": "E8bIcQinMGe7",
    "outputId": "d62d42cf-22da-4df3-9bc1-b97b26424650"
   },
   "outputs": [
    {
     "name": "stdout",
     "output_type": "stream",
     "text": [
      "Total No. of users: 6040\n",
      "Total No. of items: 3706\n",
      "\n",
      "\n",
      "Max observed rating: 5\n",
      "Min observed rating: 1\n",
      "\n",
      "\n",
      "Max no. of user ratings: 2314\n",
      "Min no. of user ratings: 20\n",
      "Median no. of ratings per user: 96.0\n",
      "\n",
      "\n",
      "Max no. of item ratings: 3428\n",
      "Min no. of item ratings: 1\n",
      "Median no. of ratings per item: 123.5\n"
     ]
    }
   ],
   "source": [
    "ratings_per_user = ratings_df.groupby('user_id').rating.count()\n",
    "ratings_per_item = ratings_df.groupby('title').rating.count()\n",
    "\n",
    "print(f\"Total No. of users: {len(ratings_df.user_id.unique())}\")\n",
    "print(f\"Total No. of items: {len(ratings_df.title.unique())}\")\n",
    "print(\"\\n\")\n",
    "\n",
    "print(f\"Max observed rating: {ratings_df.rating.max()}\")\n",
    "print(f\"Min observed rating: {ratings_df.rating.min()}\")\n",
    "print(\"\\n\")\n",
    "\n",
    "print(f\"Max no. of user ratings: {ratings_per_user.max()}\")\n",
    "print(f\"Min no. of user ratings: {ratings_per_user.min()}\")\n",
    "print(f\"Median no. of ratings per user: {ratings_per_user.median()}\")\n",
    "print(\"\\n\")\n",
    "\n",
    "print(f\"Max no. of item ratings: {ratings_per_item.max()}\")\n",
    "print(f\"Min no. of item ratings: {ratings_per_item.min()}\")\n",
    "print(f\"Median no. of ratings per item: {ratings_per_item.median()}\")"
   ]
  },
  {
   "cell_type": "code",
   "execution_count": 11,
   "metadata": {
    "executionInfo": {
     "elapsed": 3,
     "status": "ok",
     "timestamp": 1645703798434,
     "user": {
      "displayName": "Елена Денисова",
      "photoUrl": "https://lh3.googleusercontent.com/a/default-user=s64",
      "userId": "14675858796253665620"
     },
     "user_tz": -180
    },
    "id": "YveOsY15MSsf"
   },
   "outputs": [],
   "source": [
    "# Определим функцию, которая будет получать n оценок для каждого пользователя:\n",
    "def get_last_n_ratings_by_user(\n",
    "    df, n, min_ratings_per_user=1, user_colname=\"user_id\", timestamp_colname=\"unix_timestamp\"\n",
    "):\n",
    "    return (\n",
    "        df.groupby(user_colname)\n",
    "        .filter(lambda x: len(x) >= min_ratings_per_user)\n",
    "        .sort_values(timestamp_colname)\n",
    "        .groupby(user_colname)\n",
    "        .tail(n)\n",
    "        .sort_values(user_colname)\n",
    "    )"
   ]
  },
  {
   "cell_type": "code",
   "execution_count": 12,
   "metadata": {
    "colab": {
     "base_uri": "https://localhost:8080/",
     "height": 423
    },
    "executionInfo": {
     "elapsed": 398,
     "status": "ok",
     "timestamp": 1645703800492,
     "user": {
      "displayName": "Елена Денисова",
      "photoUrl": "https://lh3.googleusercontent.com/a/default-user=s64",
      "userId": "14675858796253665620"
     },
     "user_tz": -180
    },
    "id": "a8385KYgMVNi",
    "outputId": "4c8ca171-a797-47b6-ff17-8f5be170faef"
   },
   "outputs": [
    {
     "data": {
      "text/html": [
       "<div>\n",
       "<style scoped>\n",
       "    .dataframe tbody tr th:only-of-type {\n",
       "        vertical-align: middle;\n",
       "    }\n",
       "\n",
       "    .dataframe tbody tr th {\n",
       "        vertical-align: top;\n",
       "    }\n",
       "\n",
       "    .dataframe thead th {\n",
       "        text-align: right;\n",
       "    }\n",
       "</style>\n",
       "<table border=\"1\" class=\"dataframe\">\n",
       "  <thead>\n",
       "    <tr style=\"text-align: right;\">\n",
       "      <th></th>\n",
       "      <th>user_id</th>\n",
       "      <th>title</th>\n",
       "      <th>rating</th>\n",
       "      <th>unix_timestamp</th>\n",
       "    </tr>\n",
       "  </thead>\n",
       "  <tbody>\n",
       "    <tr>\n",
       "      <th>28501</th>\n",
       "      <td>1</td>\n",
       "      <td>Pocahontas (1995)</td>\n",
       "      <td>5</td>\n",
       "      <td>978824351</td>\n",
       "    </tr>\n",
       "    <tr>\n",
       "      <th>482398</th>\n",
       "      <td>10</td>\n",
       "      <td>Hero (1992)</td>\n",
       "      <td>5</td>\n",
       "      <td>980638688</td>\n",
       "    </tr>\n",
       "    <tr>\n",
       "      <th>800008</th>\n",
       "      <td>100</td>\n",
       "      <td>Apocalypse Now (1979)</td>\n",
       "      <td>2</td>\n",
       "      <td>977594963</td>\n",
       "    </tr>\n",
       "    <tr>\n",
       "      <th>496041</th>\n",
       "      <td>1000</td>\n",
       "      <td>Streetcar Named Desire, A (1951)</td>\n",
       "      <td>5</td>\n",
       "      <td>975042421</td>\n",
       "    </tr>\n",
       "    <tr>\n",
       "      <th>305563</th>\n",
       "      <td>1001</td>\n",
       "      <td>Austin Powers: The Spy Who Shagged Me (1999)</td>\n",
       "      <td>2</td>\n",
       "      <td>1028605534</td>\n",
       "    </tr>\n",
       "    <tr>\n",
       "      <th>...</th>\n",
       "      <td>...</td>\n",
       "      <td>...</td>\n",
       "      <td>...</td>\n",
       "      <td>...</td>\n",
       "    </tr>\n",
       "    <tr>\n",
       "      <th>767773</th>\n",
       "      <td>995</td>\n",
       "      <td>French Kiss (1995)</td>\n",
       "      <td>3</td>\n",
       "      <td>975099776</td>\n",
       "    </tr>\n",
       "    <tr>\n",
       "      <th>573889</th>\n",
       "      <td>996</td>\n",
       "      <td>Almost Famous (2000)</td>\n",
       "      <td>5</td>\n",
       "      <td>1001227064</td>\n",
       "    </tr>\n",
       "    <tr>\n",
       "      <th>76463</th>\n",
       "      <td>997</td>\n",
       "      <td>Gladiator (2000)</td>\n",
       "      <td>4</td>\n",
       "      <td>978915132</td>\n",
       "    </tr>\n",
       "    <tr>\n",
       "      <th>998801</th>\n",
       "      <td>998</td>\n",
       "      <td>See the Sea (Regarde la mer) (1997)</td>\n",
       "      <td>5</td>\n",
       "      <td>975192573</td>\n",
       "    </tr>\n",
       "    <tr>\n",
       "      <th>784436</th>\n",
       "      <td>999</td>\n",
       "      <td>Free Willy (1993)</td>\n",
       "      <td>2</td>\n",
       "      <td>975364891</td>\n",
       "    </tr>\n",
       "  </tbody>\n",
       "</table>\n",
       "<p>6040 rows × 4 columns</p>\n",
       "</div>"
      ],
      "text/plain": [
       "       user_id                                         title  rating  \\\n",
       "28501        1                             Pocahontas (1995)       5   \n",
       "482398      10                                   Hero (1992)       5   \n",
       "800008     100                         Apocalypse Now (1979)       2   \n",
       "496041    1000              Streetcar Named Desire, A (1951)       5   \n",
       "305563    1001  Austin Powers: The Spy Who Shagged Me (1999)       2   \n",
       "...        ...                                           ...     ...   \n",
       "767773     995                            French Kiss (1995)       3   \n",
       "573889     996                          Almost Famous (2000)       5   \n",
       "76463      997                              Gladiator (2000)       4   \n",
       "998801     998           See the Sea (Regarde la mer) (1997)       5   \n",
       "784436     999                             Free Willy (1993)       2   \n",
       "\n",
       "        unix_timestamp  \n",
       "28501        978824351  \n",
       "482398       980638688  \n",
       "800008       977594963  \n",
       "496041       975042421  \n",
       "305563      1028605534  \n",
       "...                ...  \n",
       "767773       975099776  \n",
       "573889      1001227064  \n",
       "76463        978915132  \n",
       "998801       975192573  \n",
       "784436       975364891  \n",
       "\n",
       "[6040 rows x 4 columns]"
      ]
     },
     "execution_count": 12,
     "metadata": {},
     "output_type": "execute_result"
    }
   ],
   "source": [
    "get_last_n_ratings_by_user(ratings_df, 1)"
   ]
  },
  {
   "cell_type": "code",
   "execution_count": 13,
   "metadata": {
    "executionInfo": {
     "elapsed": 267,
     "status": "ok",
     "timestamp": 1645703805115,
     "user": {
      "displayName": "Елена Денисова",
      "photoUrl": "https://lh3.googleusercontent.com/a/default-user=s64",
      "userId": "14675858796253665620"
     },
     "user_tz": -180
    },
    "id": "nG87vnABMX2W"
   },
   "outputs": [],
   "source": [
    "# функция, которая будет помечать n оценок на пользователя так, чтобы они \n",
    "# попадали бы в проверочную выборку. Делается это с использованием столбца is_valid:\n",
    "def mark_last_n_ratings_as_validation_set(\n",
    "    df, n, min_ratings=1, user_colname=\"user_id\", timestamp_colname=\"unix_timestamp\"\n",
    "):\n",
    "    \"\"\"\n",
    "    Отмечает n последних по времени оценок, что включает их в проверочную выборку.\n",
    "    Делается это путём добавления дополнительного столбца 'is_valid' в df.\n",
    "    :param df: объект DataFrame, содержащий оценки, данные пользователем\n",
    "    :param n: количество оценок, которые надо включить в проверочную выборку\n",
    "    :param min_ratings: включать лишь пользователей, имеющих более этого количества оценок\n",
    "    :param user_id_colname: имя столбца, содержащего идентификатор пользователя\n",
    "    :param timestamp_colname: имя столбца, содержащего отметку времени\n",
    "    :return: тот же df, в который добавлен дополнительный столбец 'is_valid'\n",
    "    \"\"\"\n",
    "    df[\"is_valid\"] = False\n",
    "    df.loc[\n",
    "        get_last_n_ratings_by_user(\n",
    "            df,\n",
    "            n,\n",
    "            min_ratings,\n",
    "            user_colname=user_colname,\n",
    "            timestamp_colname=timestamp_colname,\n",
    "        ).index,\n",
    "        \"is_valid\",\n",
    "    ] = True\n",
    "    return df"
   ]
  },
  {
   "cell_type": "code",
   "execution_count": 14,
   "metadata": {
    "colab": {
     "base_uri": "https://localhost:8080/",
     "height": 423
    },
    "executionInfo": {
     "elapsed": 403,
     "status": "ok",
     "timestamp": 1645703805782,
     "user": {
      "displayName": "Елена Денисова",
      "photoUrl": "https://lh3.googleusercontent.com/a/default-user=s64",
      "userId": "14675858796253665620"
     },
     "user_tz": -180
    },
    "id": "HPxd7ZX4MaLe",
    "outputId": "6264b55a-e40e-4c9b-d6fd-75dc06115828"
   },
   "outputs": [
    {
     "data": {
      "text/html": [
       "<div>\n",
       "<style scoped>\n",
       "    .dataframe tbody tr th:only-of-type {\n",
       "        vertical-align: middle;\n",
       "    }\n",
       "\n",
       "    .dataframe tbody tr th {\n",
       "        vertical-align: top;\n",
       "    }\n",
       "\n",
       "    .dataframe thead th {\n",
       "        text-align: right;\n",
       "    }\n",
       "</style>\n",
       "<table border=\"1\" class=\"dataframe\">\n",
       "  <thead>\n",
       "    <tr style=\"text-align: right;\">\n",
       "      <th></th>\n",
       "      <th>user_id</th>\n",
       "      <th>title</th>\n",
       "      <th>rating</th>\n",
       "      <th>unix_timestamp</th>\n",
       "      <th>is_valid</th>\n",
       "    </tr>\n",
       "  </thead>\n",
       "  <tbody>\n",
       "    <tr>\n",
       "      <th>0</th>\n",
       "      <td>1</td>\n",
       "      <td>One Flew Over the Cuckoo's Nest (1975)</td>\n",
       "      <td>5</td>\n",
       "      <td>978300760</td>\n",
       "      <td>False</td>\n",
       "    </tr>\n",
       "    <tr>\n",
       "      <th>1</th>\n",
       "      <td>2</td>\n",
       "      <td>One Flew Over the Cuckoo's Nest (1975)</td>\n",
       "      <td>5</td>\n",
       "      <td>978298413</td>\n",
       "      <td>False</td>\n",
       "    </tr>\n",
       "    <tr>\n",
       "      <th>2</th>\n",
       "      <td>12</td>\n",
       "      <td>One Flew Over the Cuckoo's Nest (1975)</td>\n",
       "      <td>4</td>\n",
       "      <td>978220179</td>\n",
       "      <td>False</td>\n",
       "    </tr>\n",
       "    <tr>\n",
       "      <th>3</th>\n",
       "      <td>15</td>\n",
       "      <td>One Flew Over the Cuckoo's Nest (1975)</td>\n",
       "      <td>4</td>\n",
       "      <td>978199279</td>\n",
       "      <td>False</td>\n",
       "    </tr>\n",
       "    <tr>\n",
       "      <th>4</th>\n",
       "      <td>17</td>\n",
       "      <td>One Flew Over the Cuckoo's Nest (1975)</td>\n",
       "      <td>5</td>\n",
       "      <td>978158471</td>\n",
       "      <td>False</td>\n",
       "    </tr>\n",
       "    <tr>\n",
       "      <th>...</th>\n",
       "      <td>...</td>\n",
       "      <td>...</td>\n",
       "      <td>...</td>\n",
       "      <td>...</td>\n",
       "      <td>...</td>\n",
       "    </tr>\n",
       "    <tr>\n",
       "      <th>1000204</th>\n",
       "      <td>5949</td>\n",
       "      <td>Modulations (1998)</td>\n",
       "      <td>5</td>\n",
       "      <td>958846401</td>\n",
       "      <td>False</td>\n",
       "    </tr>\n",
       "    <tr>\n",
       "      <th>1000205</th>\n",
       "      <td>5675</td>\n",
       "      <td>Broken Vessels (1998)</td>\n",
       "      <td>3</td>\n",
       "      <td>976029116</td>\n",
       "      <td>False</td>\n",
       "    </tr>\n",
       "    <tr>\n",
       "      <th>1000206</th>\n",
       "      <td>5780</td>\n",
       "      <td>White Boys (1999)</td>\n",
       "      <td>1</td>\n",
       "      <td>958153068</td>\n",
       "      <td>False</td>\n",
       "    </tr>\n",
       "    <tr>\n",
       "      <th>1000207</th>\n",
       "      <td>5851</td>\n",
       "      <td>One Little Indian (1973)</td>\n",
       "      <td>5</td>\n",
       "      <td>957756608</td>\n",
       "      <td>False</td>\n",
       "    </tr>\n",
       "    <tr>\n",
       "      <th>1000208</th>\n",
       "      <td>5938</td>\n",
       "      <td>Five Wives, Three Secretaries and Me (1998)</td>\n",
       "      <td>4</td>\n",
       "      <td>957273353</td>\n",
       "      <td>False</td>\n",
       "    </tr>\n",
       "  </tbody>\n",
       "</table>\n",
       "<p>1000209 rows × 5 columns</p>\n",
       "</div>"
      ],
      "text/plain": [
       "        user_id                                        title  rating  \\\n",
       "0             1       One Flew Over the Cuckoo's Nest (1975)       5   \n",
       "1             2       One Flew Over the Cuckoo's Nest (1975)       5   \n",
       "2            12       One Flew Over the Cuckoo's Nest (1975)       4   \n",
       "3            15       One Flew Over the Cuckoo's Nest (1975)       4   \n",
       "4            17       One Flew Over the Cuckoo's Nest (1975)       5   \n",
       "...         ...                                          ...     ...   \n",
       "1000204    5949                           Modulations (1998)       5   \n",
       "1000205    5675                        Broken Vessels (1998)       3   \n",
       "1000206    5780                            White Boys (1999)       1   \n",
       "1000207    5851                     One Little Indian (1973)       5   \n",
       "1000208    5938  Five Wives, Three Secretaries and Me (1998)       4   \n",
       "\n",
       "         unix_timestamp  is_valid  \n",
       "0             978300760     False  \n",
       "1             978298413     False  \n",
       "2             978220179     False  \n",
       "3             978199279     False  \n",
       "4             978158471     False  \n",
       "...                 ...       ...  \n",
       "1000204       958846401     False  \n",
       "1000205       976029116     False  \n",
       "1000206       958153068     False  \n",
       "1000207       957756608     False  \n",
       "1000208       957273353     False  \n",
       "\n",
       "[1000209 rows x 5 columns]"
      ]
     },
     "execution_count": 14,
     "metadata": {},
     "output_type": "execute_result"
    }
   ],
   "source": [
    "mark_last_n_ratings_as_validation_set(ratings_df, 1)"
   ]
  },
  {
   "cell_type": "code",
   "execution_count": 15,
   "metadata": {
    "executionInfo": {
     "elapsed": 258,
     "status": "ok",
     "timestamp": 1645703808809,
     "user": {
      "displayName": "Елена Денисова",
      "photoUrl": "https://lh3.googleusercontent.com/a/default-user=s64",
      "userId": "14675858796253665620"
     },
     "user_tz": -180
    },
    "id": "bRDyWx_nMgU0"
   },
   "outputs": [],
   "source": [
    "train_df = ratings_df[ratings_df.is_valid==False]\n",
    "valid_df = ratings_df[ratings_df.is_valid==True]"
   ]
  },
  {
   "cell_type": "code",
   "execution_count": 16,
   "metadata": {
    "colab": {
     "base_uri": "https://localhost:8080/"
    },
    "executionInfo": {
     "elapsed": 261,
     "status": "ok",
     "timestamp": 1645703809376,
     "user": {
      "displayName": "Елена Денисова",
      "photoUrl": "https://lh3.googleusercontent.com/a/default-user=s64",
      "userId": "14675858796253665620"
     },
     "user_tz": -180
    },
    "id": "mqqRJGtSMo8d",
    "outputId": "d99c9ca6-6e70-47ae-e69b-94aea2088fd4"
   },
   "outputs": [
    {
     "data": {
      "text/plain": [
       "4.0"
      ]
     },
     "execution_count": 16,
     "metadata": {},
     "output_type": "execute_result"
    }
   ],
   "source": [
    "median_rating = train_df.rating.median(); median_rating"
   ]
  },
  {
   "cell_type": "code",
   "execution_count": 17,
   "metadata": {
    "colab": {
     "base_uri": "https://localhost:8080/"
    },
    "executionInfo": {
     "elapsed": 549,
     "status": "ok",
     "timestamp": 1645703810881,
     "user": {
      "displayName": "Елена Денисова",
      "photoUrl": "https://lh3.googleusercontent.com/a/default-user=s64",
      "userId": "14675858796253665620"
     },
     "user_tz": -180
    },
    "id": "h_Smb2ZOMrpk",
    "outputId": "913687fe-8731-4b88-8ed0-9c41e928f3db"
   },
   "outputs": [
    {
     "name": "stdout",
     "output_type": "stream",
     "text": [
      "mae: 0.91158940397351\n",
      "mse: 1.5304635761589405\n",
      "rmse: 1.2371190630488806\n"
     ]
    }
   ],
   "source": [
    "import math\n",
    "from sklearn.metrics import mean_squared_error, mean_absolute_error\n",
    "\n",
    "predictions = np.array([median_rating]* len(valid_df))\n",
    "\n",
    "mae = mean_absolute_error(valid_df.rating, predictions)\n",
    "mse = mean_squared_error(valid_df.rating, predictions)\n",
    "rmse = math.sqrt(mse)\n",
    "\n",
    "print(f'mae: {mae}')\n",
    "print(f'mse: {mse}')\n",
    "print(f'rmse: {rmse}')"
   ]
  },
  {
   "cell_type": "code",
   "execution_count": 18,
   "metadata": {
    "executionInfo": {
     "elapsed": 324,
     "status": "ok",
     "timestamp": 1645703814261,
     "user": {
      "displayName": "Елена Денисова",
      "photoUrl": "https://lh3.googleusercontent.com/a/default-user=s64",
      "userId": "14675858796253665620"
     },
     "user_tz": -180
    },
    "id": "E-O63KsvMt3e"
   },
   "outputs": [],
   "source": [
    "# Кодируем юзеров и фильмы\n",
    "user_lookup = {v: i+1 for i, v in enumerate(ratings_df['user_id'].unique())}\n",
    "movie_lookup = {v: i+1 for i, v in enumerate(ratings_df['title'].unique())}"
   ]
  },
  {
   "cell_type": "code",
   "execution_count": 19,
   "metadata": {
    "executionInfo": {
     "elapsed": 2,
     "status": "ok",
     "timestamp": 1645703815306,
     "user": {
      "displayName": "Елена Денисова",
      "photoUrl": "https://lh3.googleusercontent.com/a/default-user=s64",
      "userId": "14675858796253665620"
     },
     "user_tz": -180
    },
    "id": "TqQidwW1MwC2"
   },
   "outputs": [],
   "source": [
    "class UserItemRatingDataset(Dataset):\n",
    "    def __init__(self, df, movie_lookup, user_lookup):\n",
    "        self.df = df\n",
    "        self.movie_lookup = movie_lookup\n",
    "        self.user_lookup = user_lookup\n",
    "\n",
    "    def __getitem__(self, index):\n",
    "        row = self.df.iloc[index]\n",
    "        user_id = self.user_lookup[row.user_id]\n",
    "        movie_id = self.movie_lookup[row.title]\n",
    "        \n",
    "        rating = torch.tensor(row.rating, dtype=torch.float32)\n",
    "        \n",
    "        return (user_id, movie_id), rating\n",
    "\n",
    "    def __len__(self):\n",
    "        return len(self.df)"
   ]
  },
  {
   "cell_type": "code",
   "execution_count": 20,
   "metadata": {
    "executionInfo": {
     "elapsed": 269,
     "status": "ok",
     "timestamp": 1645703817917,
     "user": {
      "displayName": "Елена Денисова",
      "photoUrl": "https://lh3.googleusercontent.com/a/default-user=s64",
      "userId": "14675858796253665620"
     },
     "user_tz": -180
    },
    "id": "pA51n9CcM0dG"
   },
   "outputs": [],
   "source": [
    "train_dataset = UserItemRatingDataset(train_df, movie_lookup, user_lookup)\n",
    "valid_dataset = UserItemRatingDataset(valid_df, movie_lookup, user_lookup)"
   ]
  },
  {
   "cell_type": "code",
   "execution_count": 21,
   "metadata": {
    "executionInfo": {
     "elapsed": 337,
     "status": "ok",
     "timestamp": 1645703821180,
     "user": {
      "displayName": "Елена Денисова",
      "photoUrl": "https://lh3.googleusercontent.com/a/default-user=s64",
      "userId": "14675858796253665620"
     },
     "user_tz": -180
    },
    "id": "tphT-uAZM3G9"
   },
   "outputs": [],
   "source": [
    "import torch\n",
    "from torch import nn\n",
    "\n",
    "# Определим модель\n",
    "class MfDotBias(nn.Module):\n",
    "\n",
    "    def __init__(\n",
    "        self, n_factors, n_users, n_items, ratings_range=None, use_biases=True\n",
    "    ):\n",
    "        super().__init__()\n",
    "        self.bias = use_biases\n",
    "        self.y_range = ratings_range\n",
    "        self.user_embedding = nn.Embedding(n_users+1, n_factors, padding_idx=0)\n",
    "        self.item_embedding = nn.Embedding(n_items+1, n_factors, padding_idx=0)\n",
    "\n",
    "        if use_biases:\n",
    "            self.user_bias = nn.Embedding(n_users+1, 1, padding_idx=0)\n",
    "            self.item_bias = nn.Embedding(n_items+1, 1, padding_idx=0)\n",
    "\n",
    "    def forward(self, inputs):\n",
    "        users, items = inputs\n",
    "        dot = self.user_embedding(users) * self.item_embedding(items)\n",
    "        result = dot.sum(1)\n",
    "        if self.bias:\n",
    "            result = (\n",
    "                result + self.user_bias(users).squeeze() + self.item_bias(items).squeeze()\n",
    "            )\n",
    "\n",
    "        if self.y_range is None:\n",
    "            return result\n",
    "        else:\n",
    "            return (\n",
    "                torch.sigmoid(result) * (self.y_range[1] - self.y_range[0])\n",
    "                + self.y_range[0]\n",
    "            )"
   ]
  },
  {
   "cell_type": "code",
   "execution_count": 23,
   "metadata": {
    "colab": {
     "base_uri": "https://localhost:8080/"
    },
    "executionInfo": {
     "elapsed": 7590,
     "status": "ok",
     "timestamp": 1645705880502,
     "user": {
      "displayName": "Елена Денисова",
      "photoUrl": "https://lh3.googleusercontent.com/a/default-user=s64",
      "userId": "14675858796253665620"
     },
     "user_tz": -180
    },
    "id": "-TVizSceM97x",
    "outputId": "d061bdd9-24f1-4566-8f79-d00d98257bd9"
   },
   "outputs": [],
   "source": [
    "from functools import partial\n",
    "# !pip install pytorch_accelerated\n",
    "# !pip install torchmetrics\n",
    "from pytorch_accelerated import Trainer, notebook_launcher \n",
    "from pytorch_accelerated.trainer import TrainerPlaceholderValues, DEFAULT_CALLBACKS\n",
    "from pytorch_accelerated.callbacks import EarlyStoppingCallback, SaveBestModelCallback, TrainerCallback, StopTrainingError\n",
    "import torchmetrics"
   ]
  },
  {
   "cell_type": "code",
   "execution_count": 24,
   "metadata": {
    "executionInfo": {
     "elapsed": 233,
     "status": "ok",
     "timestamp": 1645697418750,
     "user": {
      "displayName": "Елена Денисова",
      "photoUrl": "https://lh3.googleusercontent.com/a/default-user=s64",
      "userId": "14675858796253665620"
     },
     "user_tz": -180
    },
    "id": "0QZ53xdwNAQk"
   },
   "outputs": [],
   "source": [
    "class RecommenderMetricsCallback(TrainerCallback):\n",
    "    def __init__(self):\n",
    "        self.metrics = torchmetrics.MetricCollection(\n",
    "            {\n",
    "                \"mse\": torchmetrics.MeanSquaredError(),\n",
    "                \"mae\": torchmetrics.MeanAbsoluteError(),\n",
    "            }\n",
    "        )\n",
    "\n",
    "    def _move_to_device(self, trainer):\n",
    "        self.metrics.to(trainer.device)\n",
    "\n",
    "    def on_training_run_start(self, trainer, **kwargs):\n",
    "        self._move_to_device(trainer)\n",
    "\n",
    "    def on_evaluation_run_start(self, trainer, **kwargs):\n",
    "        self._move_to_device(trainer)\n",
    "\n",
    "    def on_eval_step_end(self, trainer, batch, batch_output, **kwargs):\n",
    "        preds = batch_output[\"model_outputs\"]\n",
    "        self.metrics.update(preds, batch[1])\n",
    "\n",
    "    def on_eval_epoch_end(self, trainer, **kwargs):\n",
    "        metrics = self.metrics.compute()\n",
    "        \n",
    "        mse = metrics[\"mse\"].cpu()\n",
    "        trainer.run_history.update_metric(\"mae\", metrics[\"mae\"].cpu())\n",
    "        trainer.run_history.update_metric(\"mse\", mse)\n",
    "        trainer.run_history.update_metric(\"rmse\",  math.sqrt(mse))\n",
    "\n",
    "        self.metrics.reset()"
   ]
  },
  {
   "cell_type": "code",
   "execution_count": 23,
   "metadata": {
    "executionInfo": {
     "elapsed": 234,
     "status": "ok",
     "timestamp": 1645697427905,
     "user": {
      "displayName": "Елена Денисова",
      "photoUrl": "https://lh3.googleusercontent.com/a/default-user=s64",
      "userId": "14675858796253665620"
     },
     "user_tz": -180
    },
    "id": "QMq0ad95NcKP"
   },
   "outputs": [],
   "source": [
    "def train_mf_model():\n",
    "    model = MfDotBias(\n",
    "        120, len(user_lookup), len(movie_lookup), ratings_range=[0.5, 5.5]\n",
    "    )\n",
    "    loss_func = torch.nn.MSELoss()\n",
    "\n",
    "    optimizer = torch.optim.AdamW(model.parameters(), lr=0.01)\n",
    "\n",
    "    create_sched_fn = partial(\n",
    "        torch.optim.lr_scheduler.OneCycleLR,\n",
    "        max_lr=0.01,\n",
    "        epochs=TrainerPlaceholderValues.NUM_EPOCHS,\n",
    "        steps_per_epoch=TrainerPlaceholderValues.NUM_UPDATE_STEPS_PER_EPOCH,\n",
    "    )\n",
    "\n",
    "    trainer = Trainer(\n",
    "        model=model,\n",
    "        loss_func=loss_func,\n",
    "        optimizer=optimizer,\n",
    "        callbacks=(\n",
    "            RecommenderMetricsCallback,\n",
    "            *DEFAULT_CALLBACKS,\n",
    "            SaveBestModelCallback(watch_metric=\"mae\"),\n",
    "            EarlyStoppingCallback(\n",
    "                early_stopping_patience=2,\n",
    "                early_stopping_threshold=0.001,\n",
    "                watch_metric=\"mae\",\n",
    "            ),\n",
    "        ),\n",
    "    )\n",
    "\n",
    "    trainer.train(\n",
    "        train_dataset=train_dataset,\n",
    "        eval_dataset=valid_dataset,\n",
    "        num_epochs=30,\n",
    "        per_device_batch_size=512,\n",
    "        create_scheduler_fn=create_sched_fn,\n",
    "    )"
   ]
  },
  {
   "cell_type": "code",
   "execution_count": 24,
   "metadata": {
    "colab": {
     "base_uri": "https://localhost:8080/",
     "height": 1000
    },
    "executionInfo": {
     "elapsed": 899619,
     "status": "error",
     "timestamp": 1645698335500,
     "user": {
      "displayName": "Елена Денисова",
      "photoUrl": "https://lh3.googleusercontent.com/a/default-user=s64",
      "userId": "14675858796253665620"
     },
     "user_tz": -180
    },
    "id": "kG1YQ4A1Neam",
    "outputId": "56bbe3b6-7ea1-436f-d571-bdb6c5d01b1b"
   },
   "outputs": [
    {
     "name": "stdout",
     "output_type": "stream",
     "text": [
      "Launching training on one GPU.\n",
      "\n",
      "Starting training run\n",
      "\n",
      "Starting epoch 1\n"
     ]
    },
    {
     "name": "stderr",
     "output_type": "stream",
     "text": [
      "100%|██████████| 1576/1576 [03:13<00:00,  8.14it/s]\n"
     ]
    },
    {
     "name": "stdout",
     "output_type": "stream",
     "text": [
      "\n",
      "train_loss_epoch: 6.889003145034498\n"
     ]
    },
    {
     "name": "stderr",
     "output_type": "stream",
     "text": [
      "100%|██████████| 10/10 [00:01<00:00,  8.31it/s]\n"
     ]
    },
    {
     "name": "stdout",
     "output_type": "stream",
     "text": [
      "\n",
      "rmse: 2.649046431224167\n",
      "\n",
      "mse: 7.017446994781494\n",
      "\n",
      "mae: 2.2942216396331787\n",
      "\n",
      "eval_loss_epoch: 7.017446929433151\n",
      "\n",
      "Starting epoch 2\n"
     ]
    },
    {
     "name": "stderr",
     "output_type": "stream",
     "text": [
      "100%|██████████| 1576/1576 [03:48<00:00,  6.89it/s]\n"
     ]
    },
    {
     "name": "stdout",
     "output_type": "stream",
     "text": [
      "\n",
      "train_loss_epoch: 6.513257532029408\n"
     ]
    },
    {
     "name": "stderr",
     "output_type": "stream",
     "text": [
      "100%|██████████| 10/10 [00:01<00:00,  8.13it/s]\n"
     ]
    },
    {
     "name": "stdout",
     "output_type": "stream",
     "text": [
      "\n",
      "rmse: 2.628196223651242\n",
      "\n",
      "mse: 6.907415390014648\n",
      "\n",
      "mae: 2.2731997966766357\n",
      "\n",
      "eval_loss_epoch: 6.907414791788289\n",
      "\n",
      "Improvement of 0.02102184295654297 observed, resetting counter. \n",
      "Early stopping counter: 0/2\n",
      "\n",
      "Starting epoch 3\n"
     ]
    },
    {
     "name": "stderr",
     "output_type": "stream",
     "text": [
      "100%|██████████| 1576/1576 [03:02<00:00,  8.65it/s]\n"
     ]
    },
    {
     "name": "stdout",
     "output_type": "stream",
     "text": [
      "\n",
      "train_loss_epoch: 6.012864572117407\n"
     ]
    },
    {
     "name": "stderr",
     "output_type": "stream",
     "text": [
      "100%|██████████| 10/10 [00:01<00:00,  7.69it/s]\n"
     ]
    },
    {
     "name": "stdout",
     "output_type": "stream",
     "text": [
      "\n",
      "rmse: 2.5916040574470807\n",
      "\n",
      "mse: 6.716411590576172\n",
      "\n",
      "mae: 2.2317488193511963\n",
      "\n",
      "eval_loss_epoch: 6.716411910557713\n",
      "\n",
      "Improvement of 0.04145097732543945 observed, resetting counter. \n",
      "Early stopping counter: 0/2\n",
      "\n",
      "Starting epoch 4\n"
     ]
    },
    {
     "name": "stderr",
     "output_type": "stream",
     "text": [
      "100%|██████████| 1576/1576 [03:02<00:00,  8.64it/s]\n"
     ]
    },
    {
     "name": "stdout",
     "output_type": "stream",
     "text": [
      "\n",
      "train_loss_epoch: 5.522534759300887\n"
     ]
    },
    {
     "name": "stderr",
     "output_type": "stream",
     "text": [
      "100%|██████████| 10/10 [00:01<00:00,  7.72it/s]\n"
     ]
    },
    {
     "name": "stdout",
     "output_type": "stream",
     "text": [
      "\n",
      "rmse: 2.5081729808089706\n",
      "\n",
      "mse: 6.290931701660156\n",
      "\n",
      "mae: 2.1526763439178467\n",
      "\n",
      "eval_loss_epoch: 6.290932070824407\n",
      "\n",
      "Improvement of 0.07907247543334961 observed, resetting counter. \n",
      "Early stopping counter: 0/2\n",
      "\n",
      "Starting epoch 5\n"
     ]
    },
    {
     "name": "stderr",
     "output_type": "stream",
     "text": [
      " 52%|█████▏    | 826/1576 [01:34<01:21,  9.25it/s]"
     ]
    },
    {
     "ename": "KeyboardInterrupt",
     "evalue": "ignored",
     "output_type": "error",
     "traceback": [
      "\u001b[0;31m---------------------------------------------------------------------------\u001b[0m",
      "\u001b[0;31mKeyboardInterrupt\u001b[0m                         Traceback (most recent call last)",
      "\u001b[0;32m<ipython-input-24-b500bfe26095>\u001b[0m in \u001b[0;36m<module>\u001b[0;34m()\u001b[0m\n\u001b[0;32m----> 1\u001b[0;31m \u001b[0mnotebook_launcher\u001b[0m\u001b[0;34m(\u001b[0m\u001b[0mtrain_mf_model\u001b[0m\u001b[0;34m,\u001b[0m \u001b[0mnum_processes\u001b[0m\u001b[0;34m=\u001b[0m\u001b[0;36m2\u001b[0m\u001b[0;34m)\u001b[0m\u001b[0;34m\u001b[0m\u001b[0;34m\u001b[0m\u001b[0m\n\u001b[0m",
      "\u001b[0;32m/usr/local/lib/python3.7/dist-packages/accelerate/notebook_launcher.py\u001b[0m in \u001b[0;36mnotebook_launcher\u001b[0;34m(function, args, num_processes, use_fp16, use_port)\u001b[0m\n\u001b[1;32m     74\u001b[0m             \u001b[0;32melse\u001b[0m\u001b[0;34m:\u001b[0m\u001b[0;34m\u001b[0m\u001b[0;34m\u001b[0m\u001b[0m\n\u001b[1;32m     75\u001b[0m                 \u001b[0mprint\u001b[0m\u001b[0;34m(\u001b[0m\u001b[0;34m\"Launching training on CPU.\"\u001b[0m\u001b[0;34m)\u001b[0m\u001b[0;34m\u001b[0m\u001b[0;34m\u001b[0m\u001b[0m\n\u001b[0;32m---> 76\u001b[0;31m             \u001b[0mfunction\u001b[0m\u001b[0;34m(\u001b[0m\u001b[0;34m*\u001b[0m\u001b[0margs\u001b[0m\u001b[0;34m)\u001b[0m\u001b[0;34m\u001b[0m\u001b[0;34m\u001b[0m\u001b[0m\n\u001b[0m\u001b[1;32m     77\u001b[0m \u001b[0;34m\u001b[0m\u001b[0m\n\u001b[1;32m     78\u001b[0m     \u001b[0;32melse\u001b[0m\u001b[0;34m:\u001b[0m\u001b[0;34m\u001b[0m\u001b[0;34m\u001b[0m\u001b[0m\n",
      "\u001b[0;32m<ipython-input-23-86302b96de28>\u001b[0m in \u001b[0;36mtrain_mf_model\u001b[0;34m()\u001b[0m\n\u001b[1;32m     35\u001b[0m         \u001b[0mnum_epochs\u001b[0m\u001b[0;34m=\u001b[0m\u001b[0;36m30\u001b[0m\u001b[0;34m,\u001b[0m\u001b[0;34m\u001b[0m\u001b[0;34m\u001b[0m\u001b[0m\n\u001b[1;32m     36\u001b[0m         \u001b[0mper_device_batch_size\u001b[0m\u001b[0;34m=\u001b[0m\u001b[0;36m512\u001b[0m\u001b[0;34m,\u001b[0m\u001b[0;34m\u001b[0m\u001b[0;34m\u001b[0m\u001b[0m\n\u001b[0;32m---> 37\u001b[0;31m         \u001b[0mcreate_scheduler_fn\u001b[0m\u001b[0;34m=\u001b[0m\u001b[0mcreate_sched_fn\u001b[0m\u001b[0;34m,\u001b[0m\u001b[0;34m\u001b[0m\u001b[0;34m\u001b[0m\u001b[0m\n\u001b[0m\u001b[1;32m     38\u001b[0m     )\n",
      "\u001b[0;32m/usr/local/lib/python3.7/dist-packages/pytorch_accelerated/trainer.py\u001b[0m in \u001b[0;36mtrain\u001b[0;34m(self, train_dataset, num_epochs, eval_dataset, per_device_batch_size, max_num_train_steps, gradient_accumulation_steps, gradient_clip_value, create_scheduler_fn, train_dataloader_kwargs, eval_dataloader_kwargs, reset_run_history, collate_fn)\u001b[0m\n\u001b[1;32m    435\u001b[0m             \u001b[0mself\u001b[0m\u001b[0;34m.\u001b[0m\u001b[0mscheduler\u001b[0m \u001b[0;34m=\u001b[0m \u001b[0mself\u001b[0m\u001b[0;34m.\u001b[0m\u001b[0mcreate_scheduler\u001b[0m\u001b[0;34m(\u001b[0m\u001b[0;34m)\u001b[0m\u001b[0;34m\u001b[0m\u001b[0;34m\u001b[0m\u001b[0m\n\u001b[1;32m    436\u001b[0m \u001b[0;34m\u001b[0m\u001b[0m\n\u001b[0;32m--> 437\u001b[0;31m         \u001b[0mself\u001b[0m\u001b[0;34m.\u001b[0m\u001b[0m_run_training\u001b[0m\u001b[0;34m(\u001b[0m\u001b[0;34m)\u001b[0m\u001b[0;34m\u001b[0m\u001b[0;34m\u001b[0m\u001b[0m\n\u001b[0m\u001b[1;32m    438\u001b[0m \u001b[0;34m\u001b[0m\u001b[0m\n\u001b[1;32m    439\u001b[0m     def evaluate(\n",
      "\u001b[0;32m/usr/local/lib/python3.7/dist-packages/pytorch_accelerated/trainer.py\u001b[0m in \u001b[0;36m_run_training\u001b[0;34m(self)\u001b[0m\n\u001b[1;32m    639\u001b[0m         \u001b[0;32mfor\u001b[0m \u001b[0mepoch\u001b[0m \u001b[0;32min\u001b[0m \u001b[0mrange\u001b[0m\u001b[0;34m(\u001b[0m\u001b[0mself\u001b[0m\u001b[0;34m.\u001b[0m\u001b[0mrun_config\u001b[0m\u001b[0;34m.\u001b[0m\u001b[0mnum_epochs\u001b[0m\u001b[0;34m)\u001b[0m\u001b[0;34m:\u001b[0m\u001b[0;34m\u001b[0m\u001b[0;34m\u001b[0m\u001b[0m\n\u001b[1;32m    640\u001b[0m             \u001b[0;32mtry\u001b[0m\u001b[0;34m:\u001b[0m\u001b[0;34m\u001b[0m\u001b[0;34m\u001b[0m\u001b[0m\n\u001b[0;32m--> 641\u001b[0;31m                 \u001b[0mself\u001b[0m\u001b[0;34m.\u001b[0m\u001b[0m_run_train_epoch\u001b[0m\u001b[0;34m(\u001b[0m\u001b[0mself\u001b[0m\u001b[0;34m.\u001b[0m\u001b[0m_train_dataloader\u001b[0m\u001b[0;34m)\u001b[0m\u001b[0;34m\u001b[0m\u001b[0;34m\u001b[0m\u001b[0m\n\u001b[0m\u001b[1;32m    642\u001b[0m                 \u001b[0;32mif\u001b[0m \u001b[0mself\u001b[0m\u001b[0;34m.\u001b[0m\u001b[0meval_dataset\u001b[0m \u001b[0;32mis\u001b[0m \u001b[0;32mnot\u001b[0m \u001b[0;32mNone\u001b[0m\u001b[0;34m:\u001b[0m\u001b[0;34m\u001b[0m\u001b[0;34m\u001b[0m\u001b[0m\n\u001b[1;32m    643\u001b[0m                     \u001b[0mself\u001b[0m\u001b[0;34m.\u001b[0m\u001b[0m_run_eval_epoch\u001b[0m\u001b[0;34m(\u001b[0m\u001b[0mself\u001b[0m\u001b[0;34m.\u001b[0m\u001b[0m_eval_dataloader\u001b[0m\u001b[0;34m)\u001b[0m\u001b[0;34m\u001b[0m\u001b[0;34m\u001b[0m\u001b[0m\n",
      "\u001b[0;32m/usr/local/lib/python3.7/dist-packages/pytorch_accelerated/trainer.py\u001b[0m in \u001b[0;36m_run_train_epoch\u001b[0;34m(self, train_dl)\u001b[0m\n\u001b[1;32m    697\u001b[0m         )\n\u001b[1;32m    698\u001b[0m \u001b[0;34m\u001b[0m\u001b[0m\n\u001b[0;32m--> 699\u001b[0;31m         \u001b[0;32mfor\u001b[0m \u001b[0mstep\u001b[0m\u001b[0;34m,\u001b[0m \u001b[0mbatch\u001b[0m \u001b[0;32min\u001b[0m \u001b[0menumerate\u001b[0m\u001b[0;34m(\u001b[0m\u001b[0mtrain_dl\u001b[0m\u001b[0;34m)\u001b[0m\u001b[0;34m:\u001b[0m\u001b[0;34m\u001b[0m\u001b[0;34m\u001b[0m\u001b[0m\n\u001b[0m\u001b[1;32m    700\u001b[0m             self.callback_handler.call_event(\n\u001b[1;32m    701\u001b[0m                 \u001b[0;34m\"on_train_step_start\"\u001b[0m\u001b[0;34m,\u001b[0m\u001b[0;34m\u001b[0m\u001b[0;34m\u001b[0m\u001b[0m\n",
      "\u001b[0;32m/usr/local/lib/python3.7/dist-packages/accelerate/data_loader.py\u001b[0m in \u001b[0;36m__iter__\u001b[0;34m(self)\u001b[0m\n\u001b[1;32m    301\u001b[0m             \u001b[0msynchronize_rng_states\u001b[0m\u001b[0;34m(\u001b[0m\u001b[0mself\u001b[0m\u001b[0;34m.\u001b[0m\u001b[0mrng_types\u001b[0m\u001b[0;34m,\u001b[0m \u001b[0mself\u001b[0m\u001b[0;34m.\u001b[0m\u001b[0mgenerator\u001b[0m\u001b[0;34m)\u001b[0m\u001b[0;34m\u001b[0m\u001b[0;34m\u001b[0m\u001b[0m\n\u001b[1;32m    302\u001b[0m         \u001b[0mstate\u001b[0m \u001b[0;34m=\u001b[0m \u001b[0mAcceleratorState\u001b[0m\u001b[0;34m(\u001b[0m\u001b[0;34m)\u001b[0m\u001b[0;34m\u001b[0m\u001b[0;34m\u001b[0m\u001b[0m\n\u001b[0;32m--> 303\u001b[0;31m         \u001b[0;32mfor\u001b[0m \u001b[0mbatch\u001b[0m \u001b[0;32min\u001b[0m \u001b[0msuper\u001b[0m\u001b[0;34m(\u001b[0m\u001b[0;34m)\u001b[0m\u001b[0;34m.\u001b[0m\u001b[0m__iter__\u001b[0m\u001b[0;34m(\u001b[0m\u001b[0;34m)\u001b[0m\u001b[0;34m:\u001b[0m\u001b[0;34m\u001b[0m\u001b[0;34m\u001b[0m\u001b[0m\n\u001b[0m\u001b[1;32m    304\u001b[0m             \u001b[0;32mif\u001b[0m \u001b[0mstate\u001b[0m\u001b[0;34m.\u001b[0m\u001b[0mdistributed_type\u001b[0m \u001b[0;34m==\u001b[0m \u001b[0mDistributedType\u001b[0m\u001b[0;34m.\u001b[0m\u001b[0mTPU\u001b[0m\u001b[0;34m:\u001b[0m\u001b[0;34m\u001b[0m\u001b[0;34m\u001b[0m\u001b[0m\n\u001b[1;32m    305\u001b[0m                 \u001b[0mxm\u001b[0m\u001b[0;34m.\u001b[0m\u001b[0mmark_step\u001b[0m\u001b[0;34m(\u001b[0m\u001b[0;34m)\u001b[0m\u001b[0;34m\u001b[0m\u001b[0;34m\u001b[0m\u001b[0m\n",
      "\u001b[0;32m/usr/local/lib/python3.7/dist-packages/torch/utils/data/dataloader.py\u001b[0m in \u001b[0;36m__next__\u001b[0;34m(self)\u001b[0m\n\u001b[1;32m    519\u001b[0m             \u001b[0;32mif\u001b[0m \u001b[0mself\u001b[0m\u001b[0;34m.\u001b[0m\u001b[0m_sampler_iter\u001b[0m \u001b[0;32mis\u001b[0m \u001b[0;32mNone\u001b[0m\u001b[0;34m:\u001b[0m\u001b[0;34m\u001b[0m\u001b[0;34m\u001b[0m\u001b[0m\n\u001b[1;32m    520\u001b[0m                 \u001b[0mself\u001b[0m\u001b[0;34m.\u001b[0m\u001b[0m_reset\u001b[0m\u001b[0;34m(\u001b[0m\u001b[0;34m)\u001b[0m\u001b[0;34m\u001b[0m\u001b[0;34m\u001b[0m\u001b[0m\n\u001b[0;32m--> 521\u001b[0;31m             \u001b[0mdata\u001b[0m \u001b[0;34m=\u001b[0m \u001b[0mself\u001b[0m\u001b[0;34m.\u001b[0m\u001b[0m_next_data\u001b[0m\u001b[0;34m(\u001b[0m\u001b[0;34m)\u001b[0m\u001b[0;34m\u001b[0m\u001b[0;34m\u001b[0m\u001b[0m\n\u001b[0m\u001b[1;32m    522\u001b[0m             \u001b[0mself\u001b[0m\u001b[0;34m.\u001b[0m\u001b[0m_num_yielded\u001b[0m \u001b[0;34m+=\u001b[0m \u001b[0;36m1\u001b[0m\u001b[0;34m\u001b[0m\u001b[0;34m\u001b[0m\u001b[0m\n\u001b[1;32m    523\u001b[0m             \u001b[0;32mif\u001b[0m \u001b[0mself\u001b[0m\u001b[0;34m.\u001b[0m\u001b[0m_dataset_kind\u001b[0m \u001b[0;34m==\u001b[0m \u001b[0m_DatasetKind\u001b[0m\u001b[0;34m.\u001b[0m\u001b[0mIterable\u001b[0m \u001b[0;32mand\u001b[0m\u001b[0;31m \u001b[0m\u001b[0;31m\\\u001b[0m\u001b[0;34m\u001b[0m\u001b[0;34m\u001b[0m\u001b[0m\n",
      "\u001b[0;32m/usr/local/lib/python3.7/dist-packages/torch/utils/data/dataloader.py\u001b[0m in \u001b[0;36m_next_data\u001b[0;34m(self)\u001b[0m\n\u001b[1;32m   1184\u001b[0m \u001b[0;34m\u001b[0m\u001b[0m\n\u001b[1;32m   1185\u001b[0m             \u001b[0;32massert\u001b[0m \u001b[0;32mnot\u001b[0m \u001b[0mself\u001b[0m\u001b[0;34m.\u001b[0m\u001b[0m_shutdown\u001b[0m \u001b[0;32mand\u001b[0m \u001b[0mself\u001b[0m\u001b[0;34m.\u001b[0m\u001b[0m_tasks_outstanding\u001b[0m \u001b[0;34m>\u001b[0m \u001b[0;36m0\u001b[0m\u001b[0;34m\u001b[0m\u001b[0;34m\u001b[0m\u001b[0m\n\u001b[0;32m-> 1186\u001b[0;31m             \u001b[0midx\u001b[0m\u001b[0;34m,\u001b[0m \u001b[0mdata\u001b[0m \u001b[0;34m=\u001b[0m \u001b[0mself\u001b[0m\u001b[0;34m.\u001b[0m\u001b[0m_get_data\u001b[0m\u001b[0;34m(\u001b[0m\u001b[0;34m)\u001b[0m\u001b[0;34m\u001b[0m\u001b[0;34m\u001b[0m\u001b[0m\n\u001b[0m\u001b[1;32m   1187\u001b[0m             \u001b[0mself\u001b[0m\u001b[0;34m.\u001b[0m\u001b[0m_tasks_outstanding\u001b[0m \u001b[0;34m-=\u001b[0m \u001b[0;36m1\u001b[0m\u001b[0;34m\u001b[0m\u001b[0;34m\u001b[0m\u001b[0m\n\u001b[1;32m   1188\u001b[0m             \u001b[0;32mif\u001b[0m \u001b[0mself\u001b[0m\u001b[0;34m.\u001b[0m\u001b[0m_dataset_kind\u001b[0m \u001b[0;34m==\u001b[0m \u001b[0m_DatasetKind\u001b[0m\u001b[0;34m.\u001b[0m\u001b[0mIterable\u001b[0m\u001b[0;34m:\u001b[0m\u001b[0;34m\u001b[0m\u001b[0;34m\u001b[0m\u001b[0m\n",
      "\u001b[0;32m/usr/local/lib/python3.7/dist-packages/torch/utils/data/dataloader.py\u001b[0m in \u001b[0;36m_get_data\u001b[0;34m(self)\u001b[0m\n\u001b[1;32m   1140\u001b[0m         \u001b[0;32melif\u001b[0m \u001b[0mself\u001b[0m\u001b[0;34m.\u001b[0m\u001b[0m_pin_memory\u001b[0m\u001b[0;34m:\u001b[0m\u001b[0;34m\u001b[0m\u001b[0;34m\u001b[0m\u001b[0m\n\u001b[1;32m   1141\u001b[0m             \u001b[0;32mwhile\u001b[0m \u001b[0mself\u001b[0m\u001b[0;34m.\u001b[0m\u001b[0m_pin_memory_thread\u001b[0m\u001b[0;34m.\u001b[0m\u001b[0mis_alive\u001b[0m\u001b[0;34m(\u001b[0m\u001b[0;34m)\u001b[0m\u001b[0;34m:\u001b[0m\u001b[0;34m\u001b[0m\u001b[0;34m\u001b[0m\u001b[0m\n\u001b[0;32m-> 1142\u001b[0;31m                 \u001b[0msuccess\u001b[0m\u001b[0;34m,\u001b[0m \u001b[0mdata\u001b[0m \u001b[0;34m=\u001b[0m \u001b[0mself\u001b[0m\u001b[0;34m.\u001b[0m\u001b[0m_try_get_data\u001b[0m\u001b[0;34m(\u001b[0m\u001b[0;34m)\u001b[0m\u001b[0;34m\u001b[0m\u001b[0;34m\u001b[0m\u001b[0m\n\u001b[0m\u001b[1;32m   1143\u001b[0m                 \u001b[0;32mif\u001b[0m \u001b[0msuccess\u001b[0m\u001b[0;34m:\u001b[0m\u001b[0;34m\u001b[0m\u001b[0;34m\u001b[0m\u001b[0m\n\u001b[1;32m   1144\u001b[0m                     \u001b[0;32mreturn\u001b[0m \u001b[0mdata\u001b[0m\u001b[0;34m\u001b[0m\u001b[0;34m\u001b[0m\u001b[0m\n",
      "\u001b[0;32m/usr/local/lib/python3.7/dist-packages/torch/utils/data/dataloader.py\u001b[0m in \u001b[0;36m_try_get_data\u001b[0;34m(self, timeout)\u001b[0m\n\u001b[1;32m    988\u001b[0m         \u001b[0;31m#   (bool: whether successfully get data, any: data if successful else None)\u001b[0m\u001b[0;34m\u001b[0m\u001b[0;34m\u001b[0m\u001b[0;34m\u001b[0m\u001b[0m\n\u001b[1;32m    989\u001b[0m         \u001b[0;32mtry\u001b[0m\u001b[0;34m:\u001b[0m\u001b[0;34m\u001b[0m\u001b[0;34m\u001b[0m\u001b[0m\n\u001b[0;32m--> 990\u001b[0;31m             \u001b[0mdata\u001b[0m \u001b[0;34m=\u001b[0m \u001b[0mself\u001b[0m\u001b[0;34m.\u001b[0m\u001b[0m_data_queue\u001b[0m\u001b[0;34m.\u001b[0m\u001b[0mget\u001b[0m\u001b[0;34m(\u001b[0m\u001b[0mtimeout\u001b[0m\u001b[0;34m=\u001b[0m\u001b[0mtimeout\u001b[0m\u001b[0;34m)\u001b[0m\u001b[0;34m\u001b[0m\u001b[0;34m\u001b[0m\u001b[0m\n\u001b[0m\u001b[1;32m    991\u001b[0m             \u001b[0;32mreturn\u001b[0m \u001b[0;34m(\u001b[0m\u001b[0;32mTrue\u001b[0m\u001b[0;34m,\u001b[0m \u001b[0mdata\u001b[0m\u001b[0;34m)\u001b[0m\u001b[0;34m\u001b[0m\u001b[0;34m\u001b[0m\u001b[0m\n\u001b[1;32m    992\u001b[0m         \u001b[0;32mexcept\u001b[0m \u001b[0mException\u001b[0m \u001b[0;32mas\u001b[0m \u001b[0me\u001b[0m\u001b[0;34m:\u001b[0m\u001b[0;34m\u001b[0m\u001b[0;34m\u001b[0m\u001b[0m\n",
      "\u001b[0;32m/usr/lib/python3.7/queue.py\u001b[0m in \u001b[0;36mget\u001b[0;34m(self, block, timeout)\u001b[0m\n\u001b[1;32m    177\u001b[0m                     \u001b[0;32mif\u001b[0m \u001b[0mremaining\u001b[0m \u001b[0;34m<=\u001b[0m \u001b[0;36m0.0\u001b[0m\u001b[0;34m:\u001b[0m\u001b[0;34m\u001b[0m\u001b[0;34m\u001b[0m\u001b[0m\n\u001b[1;32m    178\u001b[0m                         \u001b[0;32mraise\u001b[0m \u001b[0mEmpty\u001b[0m\u001b[0;34m\u001b[0m\u001b[0;34m\u001b[0m\u001b[0m\n\u001b[0;32m--> 179\u001b[0;31m                     \u001b[0mself\u001b[0m\u001b[0;34m.\u001b[0m\u001b[0mnot_empty\u001b[0m\u001b[0;34m.\u001b[0m\u001b[0mwait\u001b[0m\u001b[0;34m(\u001b[0m\u001b[0mremaining\u001b[0m\u001b[0;34m)\u001b[0m\u001b[0;34m\u001b[0m\u001b[0;34m\u001b[0m\u001b[0m\n\u001b[0m\u001b[1;32m    180\u001b[0m             \u001b[0mitem\u001b[0m \u001b[0;34m=\u001b[0m \u001b[0mself\u001b[0m\u001b[0;34m.\u001b[0m\u001b[0m_get\u001b[0m\u001b[0;34m(\u001b[0m\u001b[0;34m)\u001b[0m\u001b[0;34m\u001b[0m\u001b[0;34m\u001b[0m\u001b[0m\n\u001b[1;32m    181\u001b[0m             \u001b[0mself\u001b[0m\u001b[0;34m.\u001b[0m\u001b[0mnot_full\u001b[0m\u001b[0;34m.\u001b[0m\u001b[0mnotify\u001b[0m\u001b[0;34m(\u001b[0m\u001b[0;34m)\u001b[0m\u001b[0;34m\u001b[0m\u001b[0;34m\u001b[0m\u001b[0m\n",
      "\u001b[0;32m/usr/lib/python3.7/threading.py\u001b[0m in \u001b[0;36mwait\u001b[0;34m(self, timeout)\u001b[0m\n\u001b[1;32m    298\u001b[0m             \u001b[0;32melse\u001b[0m\u001b[0;34m:\u001b[0m\u001b[0;34m\u001b[0m\u001b[0;34m\u001b[0m\u001b[0m\n\u001b[1;32m    299\u001b[0m                 \u001b[0;32mif\u001b[0m \u001b[0mtimeout\u001b[0m \u001b[0;34m>\u001b[0m \u001b[0;36m0\u001b[0m\u001b[0;34m:\u001b[0m\u001b[0;34m\u001b[0m\u001b[0;34m\u001b[0m\u001b[0m\n\u001b[0;32m--> 300\u001b[0;31m                     \u001b[0mgotit\u001b[0m \u001b[0;34m=\u001b[0m \u001b[0mwaiter\u001b[0m\u001b[0;34m.\u001b[0m\u001b[0macquire\u001b[0m\u001b[0;34m(\u001b[0m\u001b[0;32mTrue\u001b[0m\u001b[0;34m,\u001b[0m \u001b[0mtimeout\u001b[0m\u001b[0;34m)\u001b[0m\u001b[0;34m\u001b[0m\u001b[0;34m\u001b[0m\u001b[0m\n\u001b[0m\u001b[1;32m    301\u001b[0m                 \u001b[0;32melse\u001b[0m\u001b[0;34m:\u001b[0m\u001b[0;34m\u001b[0m\u001b[0;34m\u001b[0m\u001b[0m\n\u001b[1;32m    302\u001b[0m                     \u001b[0mgotit\u001b[0m \u001b[0;34m=\u001b[0m \u001b[0mwaiter\u001b[0m\u001b[0;34m.\u001b[0m\u001b[0macquire\u001b[0m\u001b[0;34m(\u001b[0m\u001b[0;32mFalse\u001b[0m\u001b[0;34m)\u001b[0m\u001b[0;34m\u001b[0m\u001b[0;34m\u001b[0m\u001b[0m\n",
      "\u001b[0;31mKeyboardInterrupt\u001b[0m: "
     ]
    }
   ],
   "source": [
    "notebook_launcher(train_mf_model, num_processes=2)"
   ]
  },
  {
   "cell_type": "code",
   "execution_count": 25,
   "metadata": {
    "colab": {
     "base_uri": "https://localhost:8080/",
     "height": 423
    },
    "executionInfo": {
     "elapsed": 263,
     "status": "ok",
     "timestamp": 1645707358231,
     "user": {
      "displayName": "Елена Денисова",
      "photoUrl": "https://lh3.googleusercontent.com/a/default-user=s64",
      "userId": "14675858796253665620"
     },
     "user_tz": -180
    },
    "id": "NGK1uMVXzWe1",
    "outputId": "ce150ba9-0169-42de-dae3-beac7eaea7db"
   },
   "outputs": [
    {
     "data": {
      "text/html": [
       "<div>\n",
       "<style scoped>\n",
       "    .dataframe tbody tr th:only-of-type {\n",
       "        vertical-align: middle;\n",
       "    }\n",
       "\n",
       "    .dataframe tbody tr th {\n",
       "        vertical-align: top;\n",
       "    }\n",
       "\n",
       "    .dataframe thead th {\n",
       "        text-align: right;\n",
       "    }\n",
       "</style>\n",
       "<table border=\"1\" class=\"dataframe\">\n",
       "  <thead>\n",
       "    <tr style=\"text-align: right;\">\n",
       "      <th></th>\n",
       "      <th>user_id</th>\n",
       "      <th>title</th>\n",
       "      <th>rating</th>\n",
       "      <th>unix_timestamp</th>\n",
       "      <th>is_valid</th>\n",
       "    </tr>\n",
       "  </thead>\n",
       "  <tbody>\n",
       "    <tr>\n",
       "      <th>0</th>\n",
       "      <td>1</td>\n",
       "      <td>One Flew Over the Cuckoo's Nest (1975)</td>\n",
       "      <td>5</td>\n",
       "      <td>978300760</td>\n",
       "      <td>False</td>\n",
       "    </tr>\n",
       "    <tr>\n",
       "      <th>1</th>\n",
       "      <td>2</td>\n",
       "      <td>One Flew Over the Cuckoo's Nest (1975)</td>\n",
       "      <td>5</td>\n",
       "      <td>978298413</td>\n",
       "      <td>False</td>\n",
       "    </tr>\n",
       "    <tr>\n",
       "      <th>2</th>\n",
       "      <td>12</td>\n",
       "      <td>One Flew Over the Cuckoo's Nest (1975)</td>\n",
       "      <td>4</td>\n",
       "      <td>978220179</td>\n",
       "      <td>False</td>\n",
       "    </tr>\n",
       "    <tr>\n",
       "      <th>3</th>\n",
       "      <td>15</td>\n",
       "      <td>One Flew Over the Cuckoo's Nest (1975)</td>\n",
       "      <td>4</td>\n",
       "      <td>978199279</td>\n",
       "      <td>False</td>\n",
       "    </tr>\n",
       "    <tr>\n",
       "      <th>4</th>\n",
       "      <td>17</td>\n",
       "      <td>One Flew Over the Cuckoo's Nest (1975)</td>\n",
       "      <td>5</td>\n",
       "      <td>978158471</td>\n",
       "      <td>False</td>\n",
       "    </tr>\n",
       "    <tr>\n",
       "      <th>...</th>\n",
       "      <td>...</td>\n",
       "      <td>...</td>\n",
       "      <td>...</td>\n",
       "      <td>...</td>\n",
       "      <td>...</td>\n",
       "    </tr>\n",
       "    <tr>\n",
       "      <th>1000204</th>\n",
       "      <td>5949</td>\n",
       "      <td>Modulations (1998)</td>\n",
       "      <td>5</td>\n",
       "      <td>958846401</td>\n",
       "      <td>False</td>\n",
       "    </tr>\n",
       "    <tr>\n",
       "      <th>1000205</th>\n",
       "      <td>5675</td>\n",
       "      <td>Broken Vessels (1998)</td>\n",
       "      <td>3</td>\n",
       "      <td>976029116</td>\n",
       "      <td>False</td>\n",
       "    </tr>\n",
       "    <tr>\n",
       "      <th>1000206</th>\n",
       "      <td>5780</td>\n",
       "      <td>White Boys (1999)</td>\n",
       "      <td>1</td>\n",
       "      <td>958153068</td>\n",
       "      <td>False</td>\n",
       "    </tr>\n",
       "    <tr>\n",
       "      <th>1000207</th>\n",
       "      <td>5851</td>\n",
       "      <td>One Little Indian (1973)</td>\n",
       "      <td>5</td>\n",
       "      <td>957756608</td>\n",
       "      <td>False</td>\n",
       "    </tr>\n",
       "    <tr>\n",
       "      <th>1000208</th>\n",
       "      <td>5938</td>\n",
       "      <td>Five Wives, Three Secretaries and Me (1998)</td>\n",
       "      <td>4</td>\n",
       "      <td>957273353</td>\n",
       "      <td>False</td>\n",
       "    </tr>\n",
       "  </tbody>\n",
       "</table>\n",
       "<p>1000209 rows × 5 columns</p>\n",
       "</div>"
      ],
      "text/plain": [
       "        user_id                                        title  rating  \\\n",
       "0             1       One Flew Over the Cuckoo's Nest (1975)       5   \n",
       "1             2       One Flew Over the Cuckoo's Nest (1975)       5   \n",
       "2            12       One Flew Over the Cuckoo's Nest (1975)       4   \n",
       "3            15       One Flew Over the Cuckoo's Nest (1975)       4   \n",
       "4            17       One Flew Over the Cuckoo's Nest (1975)       5   \n",
       "...         ...                                          ...     ...   \n",
       "1000204    5949                           Modulations (1998)       5   \n",
       "1000205    5675                        Broken Vessels (1998)       3   \n",
       "1000206    5780                            White Boys (1999)       1   \n",
       "1000207    5851                     One Little Indian (1973)       5   \n",
       "1000208    5938  Five Wives, Three Secretaries and Me (1998)       4   \n",
       "\n",
       "         unix_timestamp  is_valid  \n",
       "0             978300760     False  \n",
       "1             978298413     False  \n",
       "2             978220179     False  \n",
       "3             978199279     False  \n",
       "4             978158471     False  \n",
       "...                 ...       ...  \n",
       "1000204       958846401     False  \n",
       "1000205       976029116     False  \n",
       "1000206       958153068     False  \n",
       "1000207       957756608     False  \n",
       "1000208       957273353     False  \n",
       "\n",
       "[1000209 rows x 5 columns]"
      ]
     },
     "execution_count": 25,
     "metadata": {},
     "output_type": "execute_result"
    }
   ],
   "source": [
    "ratings_df"
   ]
  },
  {
   "cell_type": "code",
   "execution_count": 26,
   "metadata": {
    "executionInfo": {
     "elapsed": 277,
     "status": "ok",
     "timestamp": 1645707476323,
     "user": {
      "displayName": "Елена Денисова",
      "photoUrl": "https://lh3.googleusercontent.com/a/default-user=s64",
      "userId": "14675858796253665620"
     },
     "user_tz": -180
    },
    "id": "ROSLuSIJzya9"
   },
   "outputs": [],
   "source": [
    "# Использование трансформеров для выдачи прогнозов, основанных на последовательностях оценок:"
   ]
  },
  {
   "cell_type": "code",
   "execution_count": 27,
   "metadata": {
    "executionInfo": {
     "elapsed": 664,
     "status": "ok",
     "timestamp": 1645707387169,
     "user": {
      "displayName": "Елена Денисова",
      "photoUrl": "https://lh3.googleusercontent.com/a/default-user=s64",
      "userId": "14675858796253665620"
     },
     "user_tz": -180
    },
    "id": "Aj9sKeRMNgZ5"
   },
   "outputs": [],
   "source": [
    "grouped_ratings = ratings_df.sort_values(by='unix_timestamp').groupby('user_id').agg(tuple).reset_index()\n",
    "grouped_ratings['num_ratings'] = grouped_ratings['rating'].apply(lambda row: len(row))"
   ]
  },
  {
   "cell_type": "code",
   "execution_count": 28,
   "metadata": {
    "colab": {
     "base_uri": "https://localhost:8080/",
     "height": 239
    },
    "executionInfo": {
     "elapsed": 268,
     "status": "ok",
     "timestamp": 1645707393287,
     "user": {
      "displayName": "Елена Денисова",
      "photoUrl": "https://lh3.googleusercontent.com/a/default-user=s64",
      "userId": "14675858796253665620"
     },
     "user_tz": -180
    },
    "id": "YkAwlnVqzd0G",
    "outputId": "068366b6-cce7-4a7c-c3c0-600cebd50663"
   },
   "outputs": [
    {
     "data": {
      "text/html": [
       "<div>\n",
       "<style scoped>\n",
       "    .dataframe tbody tr th:only-of-type {\n",
       "        vertical-align: middle;\n",
       "    }\n",
       "\n",
       "    .dataframe tbody tr th {\n",
       "        vertical-align: top;\n",
       "    }\n",
       "\n",
       "    .dataframe thead th {\n",
       "        text-align: right;\n",
       "    }\n",
       "</style>\n",
       "<table border=\"1\" class=\"dataframe\">\n",
       "  <thead>\n",
       "    <tr style=\"text-align: right;\">\n",
       "      <th></th>\n",
       "      <th>user_id</th>\n",
       "      <th>title</th>\n",
       "      <th>rating</th>\n",
       "      <th>unix_timestamp</th>\n",
       "      <th>is_valid</th>\n",
       "      <th>num_ratings</th>\n",
       "    </tr>\n",
       "  </thead>\n",
       "  <tbody>\n",
       "    <tr>\n",
       "      <th>0</th>\n",
       "      <td>1</td>\n",
       "      <td>(Girl, Interrupted (1999), Cinderella (1950), ...</td>\n",
       "      <td>(4, 5, 4, 5, 3, 5, 4, 4, 5, 4, 5, 3, 4, 4, 4, ...</td>\n",
       "      <td>(978300019, 978300055, 978300055, 978300055, 9...</td>\n",
       "      <td>(False, False, False, False, False, False, Fal...</td>\n",
       "      <td>53</td>\n",
       "    </tr>\n",
       "    <tr>\n",
       "      <th>1</th>\n",
       "      <td>10</td>\n",
       "      <td>(Godfather, The (1972), Pretty Woman (1990), S...</td>\n",
       "      <td>(3, 4, 3, 4, 4, 3, 5, 5, 5, 3, 3, 4, 5, 4, 4, ...</td>\n",
       "      <td>(978224375, 978224375, 978224375, 978224400, 9...</td>\n",
       "      <td>(False, False, False, False, False, False, Fal...</td>\n",
       "      <td>401</td>\n",
       "    </tr>\n",
       "    <tr>\n",
       "      <th>2</th>\n",
       "      <td>100</td>\n",
       "      <td>(Starship Troopers (1997), Star Wars: Episode ...</td>\n",
       "      <td>(3, 4, 4, 3, 4, 3, 1, 1, 5, 4, 4, 3, 4, 2, 3, ...</td>\n",
       "      <td>(977593595, 977593595, 977593607, 977593624, 9...</td>\n",
       "      <td>(False, False, False, False, False, False, Fal...</td>\n",
       "      <td>76</td>\n",
       "    </tr>\n",
       "  </tbody>\n",
       "</table>\n",
       "</div>"
      ],
      "text/plain": [
       "  user_id                                              title  \\\n",
       "0       1  (Girl, Interrupted (1999), Cinderella (1950), ...   \n",
       "1      10  (Godfather, The (1972), Pretty Woman (1990), S...   \n",
       "2     100  (Starship Troopers (1997), Star Wars: Episode ...   \n",
       "\n",
       "                                              rating  \\\n",
       "0  (4, 5, 4, 5, 3, 5, 4, 4, 5, 4, 5, 3, 4, 4, 4, ...   \n",
       "1  (3, 4, 3, 4, 4, 3, 5, 5, 5, 3, 3, 4, 5, 4, 4, ...   \n",
       "2  (3, 4, 4, 3, 4, 3, 1, 1, 5, 4, 4, 3, 4, 2, 3, ...   \n",
       "\n",
       "                                      unix_timestamp  \\\n",
       "0  (978300019, 978300055, 978300055, 978300055, 9...   \n",
       "1  (978224375, 978224375, 978224375, 978224400, 9...   \n",
       "2  (977593595, 977593595, 977593607, 977593624, 9...   \n",
       "\n",
       "                                            is_valid  num_ratings  \n",
       "0  (False, False, False, False, False, False, Fal...           53  \n",
       "1  (False, False, False, False, False, False, Fal...          401  \n",
       "2  (False, False, False, False, False, False, Fal...           76  "
      ]
     },
     "execution_count": 28,
     "metadata": {},
     "output_type": "execute_result"
    }
   ],
   "source": [
    "grouped_ratings[:3]"
   ]
  },
  {
   "cell_type": "code",
   "execution_count": 29,
   "metadata": {
    "executionInfo": {
     "elapsed": 258,
     "status": "ok",
     "timestamp": 1645707514093,
     "user": {
      "displayName": "Елена Денисова",
      "photoUrl": "https://lh3.googleusercontent.com/a/default-user=s64",
      "userId": "14675858796253665620"
     },
     "user_tz": -180
    },
    "id": "4lpGKwAwODaZ"
   },
   "outputs": [],
   "source": [
    "sequence_length = 10"
   ]
  },
  {
   "cell_type": "code",
   "execution_count": 30,
   "metadata": {
    "executionInfo": {
     "elapsed": 291,
     "status": "ok",
     "timestamp": 1645707705509,
     "user": {
      "displayName": "Елена Денисова",
      "photoUrl": "https://lh3.googleusercontent.com/a/default-user=s64",
      "userId": "14675858796253665620"
     },
     "user_tz": -180
    },
    "id": "b28m5w3hOD2m"
   },
   "outputs": [],
   "source": [
    "def create_sequences(values, sequence_length):\n",
    "    sequences = []\n",
    "    for i, v in enumerate(values):\n",
    "        seq = values[:i+1]\n",
    "        if len(seq) > sequence_length:\n",
    "            seq = seq[i-sequence_length+1:i+1]\n",
    "        elif len(seq) < sequence_length:\n",
    "            seq =(*(['[PAD]'] * (sequence_length - len(seq))), *seq)\n",
    "       \n",
    "        sequences.append(seq)\n",
    "    return sequences"
   ]
  },
  {
   "cell_type": "code",
   "execution_count": 31,
   "metadata": {
    "executionInfo": {
     "elapsed": 1716,
     "status": "ok",
     "timestamp": 1645707708519,
     "user": {
      "displayName": "Елена Денисова",
      "photoUrl": "https://lh3.googleusercontent.com/a/default-user=s64",
      "userId": "14675858796253665620"
     },
     "user_tz": -180
    },
    "id": "lJZZ5ZyiOK_C"
   },
   "outputs": [],
   "source": [
    "# Применение ко всему df\n",
    "grouped_cols = ['title', 'rating', 'unix_timestamp', 'is_valid'] \n",
    "for col in grouped_cols:\n",
    "    grouped_ratings[col] = grouped_ratings[col].apply(lambda x: create_sequences(x, sequence_length))"
   ]
  },
  {
   "cell_type": "code",
   "execution_count": 32,
   "metadata": {
    "executionInfo": {
     "elapsed": 275,
     "status": "ok",
     "timestamp": 1645707960009,
     "user": {
      "displayName": "Елена Денисова",
      "photoUrl": "https://lh3.googleusercontent.com/a/default-user=s64",
      "userId": "14675858796253665620"
     },
     "user_tz": -180
    },
    "id": "UP_BOiNjOTC3"
   },
   "outputs": [],
   "source": [
    "# Сейчас у нас имеется одна строка, содержащая все последовательности для конкретного пользователя. \n",
    "# надо преобразовать данные таким образом, чтобы каждая последовательность располагалась бы в \n",
    "# собственной строке, но, в то же время, сохраняла бы связь с ID пользователя\n",
    "exploded_ratings = grouped_ratings[['user_id', 'title']].explode('title', ignore_index=True)\n",
    "dfs = [grouped_ratings[[col]].explode(col, ignore_index=True) for col in grouped_cols[1:]]\n",
    "seq_df = pd.concat([exploded_ratings, *dfs], axis=1)"
   ]
  },
  {
   "cell_type": "code",
   "execution_count": 33,
   "metadata": {
    "colab": {
     "base_uri": "https://localhost:8080/",
     "height": 423
    },
    "executionInfo": {
     "elapsed": 268,
     "status": "ok",
     "timestamp": 1645708085676,
     "user": {
      "displayName": "Елена Денисова",
      "photoUrl": "https://lh3.googleusercontent.com/a/default-user=s64",
      "userId": "14675858796253665620"
     },
     "user_tz": -180
    },
    "id": "xtNg94TY2H-z",
    "outputId": "50ff197d-b790-4fdd-b570-67147ba25a56"
   },
   "outputs": [
    {
     "data": {
      "text/html": [
       "<div>\n",
       "<style scoped>\n",
       "    .dataframe tbody tr th:only-of-type {\n",
       "        vertical-align: middle;\n",
       "    }\n",
       "\n",
       "    .dataframe tbody tr th {\n",
       "        vertical-align: top;\n",
       "    }\n",
       "\n",
       "    .dataframe thead th {\n",
       "        text-align: right;\n",
       "    }\n",
       "</style>\n",
       "<table border=\"1\" class=\"dataframe\">\n",
       "  <thead>\n",
       "    <tr style=\"text-align: right;\">\n",
       "      <th></th>\n",
       "      <th>user_id</th>\n",
       "      <th>title</th>\n",
       "      <th>rating</th>\n",
       "      <th>unix_timestamp</th>\n",
       "      <th>is_valid</th>\n",
       "    </tr>\n",
       "  </thead>\n",
       "  <tbody>\n",
       "    <tr>\n",
       "      <th>0</th>\n",
       "      <td>1</td>\n",
       "      <td>([PAD], [PAD], [PAD], [PAD], [PAD], [PAD], [PA...</td>\n",
       "      <td>([PAD], [PAD], [PAD], [PAD], [PAD], [PAD], [PA...</td>\n",
       "      <td>([PAD], [PAD], [PAD], [PAD], [PAD], [PAD], [PA...</td>\n",
       "      <td>([PAD], [PAD], [PAD], [PAD], [PAD], [PAD], [PA...</td>\n",
       "    </tr>\n",
       "    <tr>\n",
       "      <th>1</th>\n",
       "      <td>1</td>\n",
       "      <td>([PAD], [PAD], [PAD], [PAD], [PAD], [PAD], [PA...</td>\n",
       "      <td>([PAD], [PAD], [PAD], [PAD], [PAD], [PAD], [PA...</td>\n",
       "      <td>([PAD], [PAD], [PAD], [PAD], [PAD], [PAD], [PA...</td>\n",
       "      <td>([PAD], [PAD], [PAD], [PAD], [PAD], [PAD], [PA...</td>\n",
       "    </tr>\n",
       "    <tr>\n",
       "      <th>2</th>\n",
       "      <td>1</td>\n",
       "      <td>([PAD], [PAD], [PAD], [PAD], [PAD], [PAD], [PA...</td>\n",
       "      <td>([PAD], [PAD], [PAD], [PAD], [PAD], [PAD], [PA...</td>\n",
       "      <td>([PAD], [PAD], [PAD], [PAD], [PAD], [PAD], [PA...</td>\n",
       "      <td>([PAD], [PAD], [PAD], [PAD], [PAD], [PAD], [PA...</td>\n",
       "    </tr>\n",
       "    <tr>\n",
       "      <th>3</th>\n",
       "      <td>1</td>\n",
       "      <td>([PAD], [PAD], [PAD], [PAD], [PAD], [PAD], Gir...</td>\n",
       "      <td>([PAD], [PAD], [PAD], [PAD], [PAD], [PAD], 4, ...</td>\n",
       "      <td>([PAD], [PAD], [PAD], [PAD], [PAD], [PAD], 978...</td>\n",
       "      <td>([PAD], [PAD], [PAD], [PAD], [PAD], [PAD], Fal...</td>\n",
       "    </tr>\n",
       "    <tr>\n",
       "      <th>4</th>\n",
       "      <td>1</td>\n",
       "      <td>([PAD], [PAD], [PAD], [PAD], [PAD], Girl, Inte...</td>\n",
       "      <td>([PAD], [PAD], [PAD], [PAD], [PAD], 4, 5, 4, 5...</td>\n",
       "      <td>([PAD], [PAD], [PAD], [PAD], [PAD], 978300019,...</td>\n",
       "      <td>([PAD], [PAD], [PAD], [PAD], [PAD], False, Fal...</td>\n",
       "    </tr>\n",
       "    <tr>\n",
       "      <th>...</th>\n",
       "      <td>...</td>\n",
       "      <td>...</td>\n",
       "      <td>...</td>\n",
       "      <td>...</td>\n",
       "      <td>...</td>\n",
       "    </tr>\n",
       "    <tr>\n",
       "      <th>1000204</th>\n",
       "      <td>999</td>\n",
       "      <td>(General's Daughter, The (1999), Powder (1995)...</td>\n",
       "      <td>(3, 3, 2, 1, 3, 2, 3, 2, 4, 3)</td>\n",
       "      <td>(975364681, 975364717, 975364717, 975364717, 9...</td>\n",
       "      <td>(False, False, False, False, False, False, Fal...</td>\n",
       "    </tr>\n",
       "    <tr>\n",
       "      <th>1000205</th>\n",
       "      <td>999</td>\n",
       "      <td>(Powder (1995), We're No Angels (1989), Out of...</td>\n",
       "      <td>(3, 2, 1, 3, 2, 3, 2, 4, 3, 3)</td>\n",
       "      <td>(975364717, 975364717, 975364717, 975364743, 9...</td>\n",
       "      <td>(False, False, False, False, False, False, Fal...</td>\n",
       "    </tr>\n",
       "    <tr>\n",
       "      <th>1000206</th>\n",
       "      <td>999</td>\n",
       "      <td>(We're No Angels (1989), Out of Africa (1985),...</td>\n",
       "      <td>(2, 1, 3, 2, 3, 2, 4, 3, 3, 3)</td>\n",
       "      <td>(975364717, 975364717, 975364743, 975364743, 9...</td>\n",
       "      <td>(False, False, False, False, False, False, Fal...</td>\n",
       "    </tr>\n",
       "    <tr>\n",
       "      <th>1000207</th>\n",
       "      <td>999</td>\n",
       "      <td>(Out of Africa (1985), Instinct (1999), Corrup...</td>\n",
       "      <td>(1, 3, 2, 3, 2, 4, 3, 3, 3, 2)</td>\n",
       "      <td>(975364717, 975364743, 975364743, 975364784, 9...</td>\n",
       "      <td>(False, False, False, False, False, False, Fal...</td>\n",
       "    </tr>\n",
       "    <tr>\n",
       "      <th>1000208</th>\n",
       "      <td>999</td>\n",
       "      <td>(Instinct (1999), Corruptor, The (1999), Jack ...</td>\n",
       "      <td>(3, 2, 3, 2, 4, 3, 3, 3, 2, 2)</td>\n",
       "      <td>(975364743, 975364743, 975364784, 975364784, 9...</td>\n",
       "      <td>(False, False, False, False, False, False, Fal...</td>\n",
       "    </tr>\n",
       "  </tbody>\n",
       "</table>\n",
       "<p>1000209 rows × 5 columns</p>\n",
       "</div>"
      ],
      "text/plain": [
       "        user_id                                              title  \\\n",
       "0             1  ([PAD], [PAD], [PAD], [PAD], [PAD], [PAD], [PA...   \n",
       "1             1  ([PAD], [PAD], [PAD], [PAD], [PAD], [PAD], [PA...   \n",
       "2             1  ([PAD], [PAD], [PAD], [PAD], [PAD], [PAD], [PA...   \n",
       "3             1  ([PAD], [PAD], [PAD], [PAD], [PAD], [PAD], Gir...   \n",
       "4             1  ([PAD], [PAD], [PAD], [PAD], [PAD], Girl, Inte...   \n",
       "...         ...                                                ...   \n",
       "1000204     999  (General's Daughter, The (1999), Powder (1995)...   \n",
       "1000205     999  (Powder (1995), We're No Angels (1989), Out of...   \n",
       "1000206     999  (We're No Angels (1989), Out of Africa (1985),...   \n",
       "1000207     999  (Out of Africa (1985), Instinct (1999), Corrup...   \n",
       "1000208     999  (Instinct (1999), Corruptor, The (1999), Jack ...   \n",
       "\n",
       "                                                    rating  \\\n",
       "0        ([PAD], [PAD], [PAD], [PAD], [PAD], [PAD], [PA...   \n",
       "1        ([PAD], [PAD], [PAD], [PAD], [PAD], [PAD], [PA...   \n",
       "2        ([PAD], [PAD], [PAD], [PAD], [PAD], [PAD], [PA...   \n",
       "3        ([PAD], [PAD], [PAD], [PAD], [PAD], [PAD], 4, ...   \n",
       "4        ([PAD], [PAD], [PAD], [PAD], [PAD], 4, 5, 4, 5...   \n",
       "...                                                    ...   \n",
       "1000204                     (3, 3, 2, 1, 3, 2, 3, 2, 4, 3)   \n",
       "1000205                     (3, 2, 1, 3, 2, 3, 2, 4, 3, 3)   \n",
       "1000206                     (2, 1, 3, 2, 3, 2, 4, 3, 3, 3)   \n",
       "1000207                     (1, 3, 2, 3, 2, 4, 3, 3, 3, 2)   \n",
       "1000208                     (3, 2, 3, 2, 4, 3, 3, 3, 2, 2)   \n",
       "\n",
       "                                            unix_timestamp  \\\n",
       "0        ([PAD], [PAD], [PAD], [PAD], [PAD], [PAD], [PA...   \n",
       "1        ([PAD], [PAD], [PAD], [PAD], [PAD], [PAD], [PA...   \n",
       "2        ([PAD], [PAD], [PAD], [PAD], [PAD], [PAD], [PA...   \n",
       "3        ([PAD], [PAD], [PAD], [PAD], [PAD], [PAD], 978...   \n",
       "4        ([PAD], [PAD], [PAD], [PAD], [PAD], 978300019,...   \n",
       "...                                                    ...   \n",
       "1000204  (975364681, 975364717, 975364717, 975364717, 9...   \n",
       "1000205  (975364717, 975364717, 975364717, 975364743, 9...   \n",
       "1000206  (975364717, 975364717, 975364743, 975364743, 9...   \n",
       "1000207  (975364717, 975364743, 975364743, 975364784, 9...   \n",
       "1000208  (975364743, 975364743, 975364784, 975364784, 9...   \n",
       "\n",
       "                                                  is_valid  \n",
       "0        ([PAD], [PAD], [PAD], [PAD], [PAD], [PAD], [PA...  \n",
       "1        ([PAD], [PAD], [PAD], [PAD], [PAD], [PAD], [PA...  \n",
       "2        ([PAD], [PAD], [PAD], [PAD], [PAD], [PAD], [PA...  \n",
       "3        ([PAD], [PAD], [PAD], [PAD], [PAD], [PAD], Fal...  \n",
       "4        ([PAD], [PAD], [PAD], [PAD], [PAD], False, Fal...  \n",
       "...                                                    ...  \n",
       "1000204  (False, False, False, False, False, False, Fal...  \n",
       "1000205  (False, False, False, False, False, False, Fal...  \n",
       "1000206  (False, False, False, False, False, False, Fal...  \n",
       "1000207  (False, False, False, False, False, False, Fal...  \n",
       "1000208  (False, False, False, False, False, False, Fal...  \n",
       "\n",
       "[1000209 rows x 5 columns]"
      ]
     },
     "execution_count": 33,
     "metadata": {},
     "output_type": "execute_result"
    }
   ],
   "source": [
    "seq_df"
   ]
  },
  {
   "cell_type": "code",
   "execution_count": 34,
   "metadata": {
    "executionInfo": {
     "elapsed": 268,
     "status": "ok",
     "timestamp": 1645708072059,
     "user": {
      "displayName": "Елена Денисова",
      "photoUrl": "https://lh3.googleusercontent.com/a/default-user=s64",
      "userId": "14675858796253665620"
     },
     "user_tz": -180
    },
    "id": "KIVfL9QxOW3e"
   },
   "outputs": [],
   "source": [
    "# Для \"is_valid\" оставляем только последнее значение, для отбора примеров для прогноза\n",
    "def get_last_entry(sequence):\n",
    "    return sequence[-1]\n",
    "\n",
    "seq_df['is_valid'] = seq_df['is_valid'].apply(get_last_entry)"
   ]
  },
  {
   "cell_type": "code",
   "execution_count": 35,
   "metadata": {
    "executionInfo": {
     "elapsed": 660,
     "status": "ok",
     "timestamp": 1645708115852,
     "user": {
      "displayName": "Елена Денисова",
      "photoUrl": "https://lh3.googleusercontent.com/a/default-user=s64",
      "userId": "14675858796253665620"
     },
     "user_tz": -180
    },
    "id": "H-prrH30OZZ0"
   },
   "outputs": [],
   "source": [
    "#чтобы облегчить доступ к оценке, которую мы пытаемся спрогнозировать, выделим её в отдельный столбец:\n",
    "seq_df['target_rating'] = seq_df['rating'].apply(get_last_entry)\n",
    "seq_df['previous_ratings'] = seq_df['rating'].apply(lambda seq: seq[:-1])\n",
    "seq_df.drop(columns=['rating'], inplace=True)"
   ]
  },
  {
   "cell_type": "code",
   "execution_count": 36,
   "metadata": {
    "executionInfo": {
     "elapsed": 7633,
     "status": "ok",
     "timestamp": 1645708265433,
     "user": {
      "displayName": "Елена Денисова",
      "photoUrl": "https://lh3.googleusercontent.com/a/default-user=s64",
      "userId": "14675858796253665620"
     },
     "user_tz": -180
    },
    "id": "33L3drtOOZp7"
   },
   "outputs": [],
   "source": [
    "# Чтобы модель, при вычислении показателей внутреннего внимания, не использовала бы вспомогательные токены,\n",
    "# мы можем предоставить трансформеру маску для механизма внутреннего внимания. Маска должна содержать значение \n",
    "# True для вспомогательного токена, а для других данных — False. Построим маску для каждой из строк, а так же \n",
    "# создадим столбец, содержащий сведения о количестве вспомогательных токенов:\n",
    "\n",
    "seq_df['pad_mask'] = seq_df['title'].apply(lambda x: (np.array(x) == '[PAD]'))\n",
    "seq_df['num_pads'] = seq_df['pad_mask'].apply(sum)\n",
    "seq_df['pad_mask'] = seq_df['pad_mask'].apply(lambda x: x.tolist())"
   ]
  },
  {
   "cell_type": "code",
   "execution_count": 37,
   "metadata": {
    "colab": {
     "base_uri": "https://localhost:8080/",
     "height": 337
    },
    "executionInfo": {
     "elapsed": 288,
     "status": "ok",
     "timestamp": 1645709578137,
     "user": {
      "displayName": "Елена Денисова",
      "photoUrl": "https://lh3.googleusercontent.com/a/default-user=s64",
      "userId": "14675858796253665620"
     },
     "user_tz": -180
    },
    "id": "GS3j4tJTObjt",
    "outputId": "0fe5b7a1-3a44-46a9-db26-79d1c2484c23"
   },
   "outputs": [
    {
     "data": {
      "text/html": [
       "<div>\n",
       "<style scoped>\n",
       "    .dataframe tbody tr th:only-of-type {\n",
       "        vertical-align: middle;\n",
       "    }\n",
       "\n",
       "    .dataframe tbody tr th {\n",
       "        vertical-align: top;\n",
       "    }\n",
       "\n",
       "    .dataframe thead th {\n",
       "        text-align: right;\n",
       "    }\n",
       "</style>\n",
       "<table border=\"1\" class=\"dataframe\">\n",
       "  <thead>\n",
       "    <tr style=\"text-align: right;\">\n",
       "      <th></th>\n",
       "      <th>user_id</th>\n",
       "      <th>title</th>\n",
       "      <th>unix_timestamp</th>\n",
       "      <th>is_valid</th>\n",
       "      <th>target_rating</th>\n",
       "      <th>previous_ratings</th>\n",
       "      <th>pad_mask</th>\n",
       "      <th>num_pads</th>\n",
       "    </tr>\n",
       "  </thead>\n",
       "  <tbody>\n",
       "    <tr>\n",
       "      <th>0</th>\n",
       "      <td>1</td>\n",
       "      <td>([PAD], [PAD], [PAD], [PAD], [PAD], [PAD], [PA...</td>\n",
       "      <td>([PAD], [PAD], [PAD], [PAD], [PAD], [PAD], [PA...</td>\n",
       "      <td>False</td>\n",
       "      <td>4</td>\n",
       "      <td>([PAD], [PAD], [PAD], [PAD], [PAD], [PAD], [PA...</td>\n",
       "      <td>[True, True, True, True, True, True, True, Tru...</td>\n",
       "      <td>9</td>\n",
       "    </tr>\n",
       "    <tr>\n",
       "      <th>1</th>\n",
       "      <td>1</td>\n",
       "      <td>([PAD], [PAD], [PAD], [PAD], [PAD], [PAD], [PA...</td>\n",
       "      <td>([PAD], [PAD], [PAD], [PAD], [PAD], [PAD], [PA...</td>\n",
       "      <td>False</td>\n",
       "      <td>5</td>\n",
       "      <td>([PAD], [PAD], [PAD], [PAD], [PAD], [PAD], [PA...</td>\n",
       "      <td>[True, True, True, True, True, True, True, Tru...</td>\n",
       "      <td>8</td>\n",
       "    </tr>\n",
       "    <tr>\n",
       "      <th>2</th>\n",
       "      <td>1</td>\n",
       "      <td>([PAD], [PAD], [PAD], [PAD], [PAD], [PAD], [PA...</td>\n",
       "      <td>([PAD], [PAD], [PAD], [PAD], [PAD], [PAD], [PA...</td>\n",
       "      <td>False</td>\n",
       "      <td>4</td>\n",
       "      <td>([PAD], [PAD], [PAD], [PAD], [PAD], [PAD], [PA...</td>\n",
       "      <td>[True, True, True, True, True, True, True, Fal...</td>\n",
       "      <td>7</td>\n",
       "    </tr>\n",
       "    <tr>\n",
       "      <th>3</th>\n",
       "      <td>1</td>\n",
       "      <td>([PAD], [PAD], [PAD], [PAD], [PAD], [PAD], Gir...</td>\n",
       "      <td>([PAD], [PAD], [PAD], [PAD], [PAD], [PAD], 978...</td>\n",
       "      <td>False</td>\n",
       "      <td>5</td>\n",
       "      <td>([PAD], [PAD], [PAD], [PAD], [PAD], [PAD], 4, ...</td>\n",
       "      <td>[True, True, True, True, True, True, False, Fa...</td>\n",
       "      <td>6</td>\n",
       "    </tr>\n",
       "    <tr>\n",
       "      <th>4</th>\n",
       "      <td>1</td>\n",
       "      <td>([PAD], [PAD], [PAD], [PAD], [PAD], Girl, Inte...</td>\n",
       "      <td>([PAD], [PAD], [PAD], [PAD], [PAD], 978300019,...</td>\n",
       "      <td>False</td>\n",
       "      <td>3</td>\n",
       "      <td>([PAD], [PAD], [PAD], [PAD], [PAD], 4, 5, 4, 5)</td>\n",
       "      <td>[True, True, True, True, True, False, False, F...</td>\n",
       "      <td>5</td>\n",
       "    </tr>\n",
       "  </tbody>\n",
       "</table>\n",
       "</div>"
      ],
      "text/plain": [
       "  user_id                                              title  \\\n",
       "0       1  ([PAD], [PAD], [PAD], [PAD], [PAD], [PAD], [PA...   \n",
       "1       1  ([PAD], [PAD], [PAD], [PAD], [PAD], [PAD], [PA...   \n",
       "2       1  ([PAD], [PAD], [PAD], [PAD], [PAD], [PAD], [PA...   \n",
       "3       1  ([PAD], [PAD], [PAD], [PAD], [PAD], [PAD], Gir...   \n",
       "4       1  ([PAD], [PAD], [PAD], [PAD], [PAD], Girl, Inte...   \n",
       "\n",
       "                                      unix_timestamp  is_valid  target_rating  \\\n",
       "0  ([PAD], [PAD], [PAD], [PAD], [PAD], [PAD], [PA...     False              4   \n",
       "1  ([PAD], [PAD], [PAD], [PAD], [PAD], [PAD], [PA...     False              5   \n",
       "2  ([PAD], [PAD], [PAD], [PAD], [PAD], [PAD], [PA...     False              4   \n",
       "3  ([PAD], [PAD], [PAD], [PAD], [PAD], [PAD], 978...     False              5   \n",
       "4  ([PAD], [PAD], [PAD], [PAD], [PAD], 978300019,...     False              3   \n",
       "\n",
       "                                    previous_ratings  \\\n",
       "0  ([PAD], [PAD], [PAD], [PAD], [PAD], [PAD], [PA...   \n",
       "1  ([PAD], [PAD], [PAD], [PAD], [PAD], [PAD], [PA...   \n",
       "2  ([PAD], [PAD], [PAD], [PAD], [PAD], [PAD], [PA...   \n",
       "3  ([PAD], [PAD], [PAD], [PAD], [PAD], [PAD], 4, ...   \n",
       "4    ([PAD], [PAD], [PAD], [PAD], [PAD], 4, 5, 4, 5)   \n",
       "\n",
       "                                            pad_mask  num_pads  \n",
       "0  [True, True, True, True, True, True, True, Tru...         9  \n",
       "1  [True, True, True, True, True, True, True, Tru...         8  \n",
       "2  [True, True, True, True, True, True, True, Fal...         7  \n",
       "3  [True, True, True, True, True, True, False, Fa...         6  \n",
       "4  [True, True, True, True, True, False, False, F...         5  "
      ]
     },
     "execution_count": 37,
     "metadata": {},
     "output_type": "execute_result"
    }
   ],
   "source": [
    "seq_df[:5]"
   ]
  },
  {
   "cell_type": "code",
   "execution_count": 38,
   "metadata": {
    "executionInfo": {
     "elapsed": 264,
     "status": "ok",
     "timestamp": 1645709824832,
     "user": {
      "displayName": "Елена Денисова",
      "photoUrl": "https://lh3.googleusercontent.com/a/default-user=s64",
      "userId": "14675858796253665620"
     },
     "user_tz": -180
    },
    "id": "pa24CKTcOeHh"
   },
   "outputs": [],
   "source": [
    "train_seq_df = seq_df[seq_df.is_valid == False]\n",
    "valid_seq_df = seq_df[seq_df.is_valid == True]"
   ]
  },
  {
   "cell_type": "code",
   "execution_count": 39,
   "metadata": {
    "executionInfo": {
     "elapsed": 342,
     "status": "ok",
     "timestamp": 1645709826378,
     "user": {
      "displayName": "Елена Денисова",
      "photoUrl": "https://lh3.googleusercontent.com/a/default-user=s64",
      "userId": "14675858796253665620"
     },
     "user_tz": -180
    },
    "id": "Brdvbu50Og_c"
   },
   "outputs": [],
   "source": [
    "#прежде чем мы сможем передать эти данные модели, нужно создать поисковую таблицу для кодирования сведений о \n",
    "# пользователях и фильмах. Но в этот раз, при создании поисковой таблицы фильмов, нам нужно учесть наличие в \n",
    "# данных вспомогательного токена:\n",
    "user_lookup = {v: i+1 for i, v in enumerate(ratings_df['user_id'].unique())}\n",
    "def create_feature_lookup(df, feature):\n",
    "    lookup = {v: i+1 for i, v in enumerate(df[feature].unique())}\n",
    "    lookup['[PAD]'] = 0\n",
    "    return lookup\n",
    "  \n",
    "movie_lookup = create_feature_lookup(ratings_df, 'title')"
   ]
  },
  {
   "cell_type": "code",
   "execution_count": 40,
   "metadata": {
    "colab": {
     "base_uri": "https://localhost:8080/",
     "height": 142
    },
    "executionInfo": {
     "elapsed": 286,
     "status": "ok",
     "timestamp": 1645709828511,
     "user": {
      "displayName": "Елена Денисова",
      "photoUrl": "https://lh3.googleusercontent.com/a/default-user=s64",
      "userId": "14675858796253665620"
     },
     "user_tz": -180
    },
    "id": "hWBCExLA7yaD",
    "outputId": "41926079-13d0-4258-81fa-342c8cde45f5"
   },
   "outputs": [
    {
     "data": {
      "text/html": [
       "<div>\n",
       "<style scoped>\n",
       "    .dataframe tbody tr th:only-of-type {\n",
       "        vertical-align: middle;\n",
       "    }\n",
       "\n",
       "    .dataframe tbody tr th {\n",
       "        vertical-align: top;\n",
       "    }\n",
       "\n",
       "    .dataframe thead th {\n",
       "        text-align: right;\n",
       "    }\n",
       "</style>\n",
       "<table border=\"1\" class=\"dataframe\">\n",
       "  <thead>\n",
       "    <tr style=\"text-align: right;\">\n",
       "      <th></th>\n",
       "      <th>user_id</th>\n",
       "      <th>title</th>\n",
       "      <th>unix_timestamp</th>\n",
       "      <th>is_valid</th>\n",
       "      <th>target_rating</th>\n",
       "      <th>previous_ratings</th>\n",
       "      <th>pad_mask</th>\n",
       "      <th>num_pads</th>\n",
       "    </tr>\n",
       "  </thead>\n",
       "  <tbody>\n",
       "    <tr>\n",
       "      <th>0</th>\n",
       "      <td>1</td>\n",
       "      <td>([PAD], [PAD], [PAD], [PAD], [PAD], [PAD], [PA...</td>\n",
       "      <td>([PAD], [PAD], [PAD], [PAD], [PAD], [PAD], [PA...</td>\n",
       "      <td>False</td>\n",
       "      <td>4</td>\n",
       "      <td>([PAD], [PAD], [PAD], [PAD], [PAD], [PAD], [PA...</td>\n",
       "      <td>[True, True, True, True, True, True, True, Tru...</td>\n",
       "      <td>9</td>\n",
       "    </tr>\n",
       "  </tbody>\n",
       "</table>\n",
       "</div>"
      ],
      "text/plain": [
       "  user_id                                              title  \\\n",
       "0       1  ([PAD], [PAD], [PAD], [PAD], [PAD], [PAD], [PA...   \n",
       "\n",
       "                                      unix_timestamp  is_valid  target_rating  \\\n",
       "0  ([PAD], [PAD], [PAD], [PAD], [PAD], [PAD], [PA...     False              4   \n",
       "\n",
       "                                    previous_ratings  \\\n",
       "0  ([PAD], [PAD], [PAD], [PAD], [PAD], [PAD], [PA...   \n",
       "\n",
       "                                            pad_mask  num_pads  \n",
       "0  [True, True, True, True, True, True, True, Tru...         9  "
      ]
     },
     "execution_count": 40,
     "metadata": {},
     "output_type": "execute_result"
    }
   ],
   "source": [
    "seq_df[:1]"
   ]
  },
  {
   "cell_type": "code",
   "execution_count": 41,
   "metadata": {
    "executionInfo": {
     "elapsed": 258,
     "status": "ok",
     "timestamp": 1645709831472,
     "user": {
      "displayName": "Елена Денисова",
      "photoUrl": "https://lh3.googleusercontent.com/a/default-user=s64",
      "userId": "14675858796253665620"
     },
     "user_tz": -180
    },
    "id": "JQbvw5VvOoa_"
   },
   "outputs": [],
   "source": [
    "# Теперь мы работаем с последовательностями оценок, а не с отдельными оценками. \n",
    "# Поэтому нужно создать новый класс Dataset, содержащий обработанный DataFrame:\n",
    "class MovieSequenceDataset(Dataset):\n",
    "    def __init__(self, df, movie_lookup, user_lookup):\n",
    "        super().__init__()\n",
    "        self.df = df\n",
    "        self.movie_lookup = movie_lookup\n",
    "        self.user_lookup = user_lookup\n",
    "\n",
    "    def __len__(self):\n",
    "        return len(self.df)\n",
    "\n",
    "    def __getitem__(self, index):\n",
    "        data = self.df.iloc[index]\n",
    "        user_id = self.user_lookup[str(data.user_id)]\n",
    "        movie_ids = torch.tensor([self.movie_lookup[title] for title in data.title])\n",
    "\n",
    "        previous_ratings = torch.tensor(\n",
    "            [rating if rating != \"[PAD]\" else 0 for rating in data.previous_ratings]\n",
    "        )\n",
    "\n",
    "        attention_mask = torch.tensor(data.pad_mask)\n",
    "        target_rating = data.target_rating\n",
    "        encoded_features = {\n",
    "            \"user_id\": user_id,\n",
    "            \"movie_ids\": movie_ids,\n",
    "            \"ratings\": previous_ratings,\n",
    "        }\n",
    "\n",
    "        return (encoded_features, attention_mask), torch.tensor(\n",
    "            target_rating, dtype=torch.float32\n",
    "        )"
   ]
  },
  {
   "cell_type": "code",
   "execution_count": 42,
   "metadata": {
    "executionInfo": {
     "elapsed": 263,
     "status": "ok",
     "timestamp": 1645709832537,
     "user": {
      "displayName": "Елена Денисова",
      "photoUrl": "https://lh3.googleusercontent.com/a/default-user=s64",
      "userId": "14675858796253665620"
     },
     "user_tz": -180
    },
    "id": "PYZ93L7YOsGK"
   },
   "outputs": [],
   "source": [
    "train_dataset = MovieSequenceDataset(train_seq_df, movie_lookup, user_lookup)\n",
    "valid_dataset = MovieSequenceDataset(valid_seq_df, movie_lookup, user_lookup)"
   ]
  },
  {
   "cell_type": "code",
   "execution_count": 57,
   "metadata": {},
   "outputs": [
    {
     "data": {
      "text/plain": [
       "({'user_id': 2437,\n",
       "  'movie_ids': tensor([  52,  247,   24,  516,  536, 2839,  245,   30,   41,  185]),\n",
       "  'ratings': tensor([4, 5, 4, 5, 4, 2, 4, 4, 4])},\n",
       " tensor([False, False, False, False, False, False, False, False, False, False]))"
      ]
     },
     "execution_count": 57,
     "metadata": {},
     "output_type": "execute_result"
    }
   ],
   "source": [
    "# for features, mask in train_dataset:\n",
    "#     features, mask\n",
    "\n",
    "features"
   ]
  },
  {
   "cell_type": "code",
   "execution_count": 58,
   "metadata": {},
   "outputs": [
    {
     "ename": "TypeError",
     "evalue": "tuple indices must be integers or slices, not str",
     "output_type": "error",
     "traceback": [
      "\u001b[1;31m---------------------------------------------------------------------------\u001b[0m",
      "\u001b[1;31mTypeError\u001b[0m                                 Traceback (most recent call last)",
      "\u001b[1;32m~\\AppData\\Local\\Temp/ipykernel_28828/2511615514.py\u001b[0m in \u001b[0;36m<module>\u001b[1;34m\u001b[0m\n\u001b[0;32m      2\u001b[0m \u001b[0membedding_size\u001b[0m \u001b[1;33m=\u001b[0m \u001b[1;36m120\u001b[0m\u001b[1;33m\u001b[0m\u001b[1;33m\u001b[0m\u001b[0m\n\u001b[0;32m      3\u001b[0m \u001b[0mmovies_embeddings\u001b[0m \u001b[1;33m=\u001b[0m \u001b[0mnn\u001b[0m\u001b[1;33m.\u001b[0m\u001b[0mEmbedding\u001b[0m\u001b[1;33m(\u001b[0m\u001b[0mmovies_num_unique\u001b[0m \u001b[1;33m+\u001b[0m \u001b[1;36m1\u001b[0m\u001b[1;33m,\u001b[0m \u001b[0membedding_size\u001b[0m\u001b[1;33m,\u001b[0m \u001b[0mpadding_idx\u001b[0m\u001b[1;33m=\u001b[0m\u001b[1;36m0\u001b[0m\u001b[1;33m)\u001b[0m\u001b[1;33m\u001b[0m\u001b[1;33m\u001b[0m\u001b[0m\n\u001b[1;32m----> 4\u001b[1;33m \u001b[0mencoded_movies\u001b[0m \u001b[1;33m=\u001b[0m \u001b[0mmovies_embeddings\u001b[0m\u001b[1;33m(\u001b[0m\u001b[0mfeatures\u001b[0m\u001b[1;33m[\u001b[0m\u001b[1;34m\"movie_ids\"\u001b[0m\u001b[1;33m]\u001b[0m\u001b[1;33m)\u001b[0m\u001b[1;33m\u001b[0m\u001b[1;33m\u001b[0m\u001b[0m\n\u001b[0m",
      "\u001b[1;31mTypeError\u001b[0m: tuple indices must be integers or slices, not str"
     ]
    }
   ],
   "source": [
    "movies_num_unique = len(movie_lookup)\n",
    "embedding_size = 120\n",
    "movies_embeddings = nn.Embedding(movies_num_unique + 1, embedding_size, padding_idx=0)\n",
    "encoded_movies = movies_embeddings(features[\"movie_ids\"])"
   ]
  },
  {
   "cell_type": "code",
   "execution_count": 47,
   "metadata": {
    "colab": {
     "base_uri": "https://localhost:8080/"
    },
    "executionInfo": {
     "elapsed": 265,
     "status": "ok",
     "timestamp": 1645711494882,
     "user": {
      "displayName": "Елена Денисова",
      "photoUrl": "https://lh3.googleusercontent.com/a/default-user=s64",
      "userId": "14675858796253665620"
     },
     "user_tz": -180
    },
    "id": "cnQuye-L8-0n",
    "outputId": "614ec9c7-e44a-4a89-8de8-ff44e15b7286"
   },
   "outputs": [
    {
     "data": {
      "text/plain": [
       "tensor([-0.0127,  0.2408,  0.1325,  0.7642,  1.0950,  0.3399,  0.7200,  0.4114,\n",
       "         1.9312,  1.0119, -1.4364, -1.1299, -0.1360,  1.6354,  0.6547,  0.5760,\n",
       "         1.1415,  0.0186, -1.8058,  0.9254, -0.3753,  1.0331, -0.6867,  0.6368,\n",
       "        -0.9727,  0.9585,  1.6192,  1.4506,  0.2695, -0.2104, -0.7328,  0.1043,\n",
       "         0.3488,  0.9676, -0.4657,  1.6048, -2.4801, -0.4175, -1.1955,  0.8123,\n",
       "        -1.9006,  0.2286,  0.0249, -0.3460,  0.2868, -0.7308,  0.1748, -1.0939,\n",
       "        -1.6022,  1.3529,  1.2888,  0.0523, -1.5469,  0.7567,  0.7755,  2.0265,\n",
       "         0.0358,  0.1206, -0.8057, -0.2076, -0.9319, -1.5910, -1.1360, -0.5226,\n",
       "        -0.5188, -1.5013, -1.9267,  0.1279,  1.0229, -0.5558,  0.7043,  0.7099,\n",
       "         1.7744, -0.9216,  0.9624, -0.3370, -1.1753,  0.3581,  0.4788,  1.3537,\n",
       "         0.5261,  2.1120, -0.5208, -0.9320,  0.1852,  1.0687,  1.3065,  0.4598,\n",
       "        -0.8146, -1.0212, -0.4949, -0.5923,  0.1543,  0.4408, -0.1483, -2.3184,\n",
       "        -0.3980,  1.0805, -1.7809,  1.5080,  0.3094, -0.5003,  1.0350,  1.6896,\n",
       "        -0.0045,  1.6668,  0.1539, -1.0603, -0.5727,  0.0836,  0.3999,  1.9892,\n",
       "        -0.0720, -0.9061, -2.0487, -1.0811,  0.0176,  0.0782,  0.1932,  0.4097],\n",
       "       grad_fn=<SelectBackward0>)"
      ]
     },
     "execution_count": 47,
     "metadata": {},
     "output_type": "execute_result"
    }
   ],
   "source": [
    "sequence_length=10\n",
    "position_embeddings = nn.Embedding(sequence_length, 120)\n",
    "positions = torch.arange( 0, 10, 1, dtype=int, ) #device=features[\"movie_ids\"].device)        )     \n",
    "position_embeddings(positions)[1]"
   ]
  },
  {
   "cell_type": "code",
   "execution_count": 59,
   "metadata": {
    "executionInfo": {
     "elapsed": 340,
     "status": "ok",
     "timestamp": 1645698409946,
     "user": {
      "displayName": "Елена Денисова",
      "photoUrl": "https://lh3.googleusercontent.com/a/default-user=s64",
      "userId": "14675858796253665620"
     },
     "user_tz": -180
    },
    "id": "Xt5G5pJ0OsYk"
   },
   "outputs": [],
   "source": [
    "# Опишем модель, основанную на трансформере. Для начала, учитывая то, что модель матричной факторизации способна \n",
    "# достичь хороших результатов, используя лишь идентификаторы пользователя и фильма, пока включим сюда лишь эти данные:\n",
    "class BstTransformer(nn.Module):\n",
    "    def init(\n",
    "        self,\n",
    "        movies_num_unique,\n",
    "        users_num_unique,\n",
    "        sequence_length=10,\n",
    "        embedding_size=120,\n",
    "        num_transformer_layers=1,\n",
    "        ratings_range=(0.5, 5.5),\n",
    "    ):\n",
    "        super().init()\n",
    "        self.sequence_length = sequence_length\n",
    "        self.y_range = ratings_range\n",
    "        self.movies_embeddings = nn.Embedding(\n",
    "            movies_num_unique + 1, embedding_size, padding_idx=0\n",
    "        )\n",
    "        self.user_embeddings = nn.Embedding(users_num_unique + 1, embedding_size)\n",
    "        self.position_embeddings = nn.Embedding(sequence_length, embedding_size)\n",
    "        self.encoder = nn.TransformerEncoder(\n",
    "            encoder_layer=nn.TransformerEncoderLayer(\n",
    "                d_model=embedding_size,\n",
    "                nhead=12,\n",
    "                dropout=0.1,\n",
    "                batch_first=True,\n",
    "                activation=\"gelu\",\n",
    "            ),\n",
    "            num_layers=num_transformer_layers,\n",
    "        )\n",
    "        self.linear = nn.Sequential(\n",
    "            nn.Linear(\n",
    "                embedding_size + (embedding_size * sequence_length),\n",
    "                1024,\n",
    "            ),\n",
    "            nn.BatchNorm1d(1024),\n",
    "            nn.Mish(),\n",
    "            nn.Linear(1024, 512),\n",
    "            nn.BatchNorm1d(512),\n",
    "            nn.Mish(),\n",
    "            nn.Dropout(0.2),\n",
    "            nn.Linear(512, 256),\n",
    "            nn.BatchNorm1d(256),\n",
    "            nn.Mish(),\n",
    "            nn.Linear(256, 1),\n",
    "            nn.Sigmoid(),\n",
    "        )\n",
    "    def forward(self, inputs):\n",
    "        features, mask = inputs\n",
    "        encoded_user_id = self.user_embeddings(features[\"user_id\"])\n",
    "        user_features = encoded_user_id\n",
    "        encoded_movies = self.movies_embeddings(features[\"movie_ids\"])\n",
    "        positions = torch.arange(\n",
    "            0, self.sequence_length, 1, dtype=int, device=features[\"movie_ids\"].device\n",
    "        )\n",
    "        positions = self.position_embeddings(positions)\n",
    "        transformer_features = encoded_movies + positions\n",
    "        transformer_output = self.encoder(\n",
    "            transformer_features, src_key_padding_mask=mask\n",
    "        )\n",
    "        transformer_output = torch.flatten(transformer_output, start_dim=1)\n",
    "        combined_output = torch.cat((transformer_output, user_features), dim=1)\n",
    "        rating = self.linear(combined_output)\n",
    "        rating = rating.squeeze()\n",
    "        if self.y_range is None:\n",
    "            return rating\n",
    "        else:\n",
    "            return rating * (self.y_range[1] - self.y_range[0]) + self.y_range[0]"
   ]
  },
  {
   "cell_type": "code",
   "execution_count": 60,
   "metadata": {
    "executionInfo": {
     "elapsed": 240,
     "status": "ok",
     "timestamp": 1645698413746,
     "user": {
      "displayName": "Елена Денисова",
      "photoUrl": "https://lh3.googleusercontent.com/a/default-user=s64",
      "userId": "14675858796253665620"
     },
     "user_tz": -180
    },
    "id": "YMvZfYPLOscn"
   },
   "outputs": [],
   "source": [
    "def train_seq_model():\n",
    "    model = BstTransformer(\n",
    "        len(movie_lookup), len(user_lookup), sequence_length , embedding_size=120\n",
    "    )\n",
    "    loss_func = torch.nn.MSELoss()\n",
    "\n",
    "    optimizer = torch.optim.AdamW(model.parameters(), lr=0.01)\n",
    "\n",
    "    create_sched_fn = partial(\n",
    "        torch.optim.lr_scheduler.OneCycleLR,\n",
    "        max_lr=0.01,\n",
    "        epochs=TrainerPlaceholderValues.NUM_EPOCHS,\n",
    "        steps_per_epoch=TrainerPlaceholderValues.NUM_UPDATE_STEPS_PER_EPOCH,\n",
    "    )\n",
    "\n",
    "    trainer = Trainer(\n",
    "        model=model,\n",
    "        loss_func=loss_func,\n",
    "        optimizer=optimizer,\n",
    "        callbacks=(\n",
    "            RecommenderMetricsCallback,\n",
    "            *DEFAULT_CALLBACKS,\n",
    "            SaveBestModelCallback(watch_metric=\"mae\"),\n",
    "            EarlyStoppingCallback(\n",
    "                early_stopping_patience=2,\n",
    "                early_stopping_threshold=0.001,\n",
    "                watch_metric=\"mae\",\n",
    "            ),\n",
    "        ),\n",
    "    )\n",
    "\n",
    "    trainer.train(\n",
    "        train_dataset=train_dataset,\n",
    "        eval_dataset=valid_dataset,\n",
    "        num_epochs=10,\n",
    "        per_device_batch_size=512,\n",
    "        create_scheduler_fn=create_sched_fn,\n",
    "    )"
   ]
  },
  {
   "cell_type": "code",
   "execution_count": 61,
   "metadata": {
    "id": "r63mX36bO3b6"
   },
   "outputs": [
    {
     "name": "stdout",
     "output_type": "stream",
     "text": [
      "Launching a training on 2 GPUs.\n"
     ]
    },
    {
     "ename": "ValueError",
     "evalue": "cannot find context for 'fork'",
     "output_type": "error",
     "traceback": [
      "\u001b[1;31m---------------------------------------------------------------------------\u001b[0m",
      "\u001b[1;31mValueError\u001b[0m                                Traceback (most recent call last)",
      "\u001b[1;32m~\\AppData\\Local\\Temp/ipykernel_28828/1831189088.py\u001b[0m in \u001b[0;36m<module>\u001b[1;34m\u001b[0m\n\u001b[1;32m----> 1\u001b[1;33m \u001b[0mnotebook_launcher\u001b[0m\u001b[1;33m(\u001b[0m\u001b[0mtrain_seq_model\u001b[0m\u001b[1;33m,\u001b[0m \u001b[0mnum_processes\u001b[0m\u001b[1;33m=\u001b[0m\u001b[1;36m2\u001b[0m\u001b[1;33m)\u001b[0m\u001b[1;33m\u001b[0m\u001b[1;33m\u001b[0m\u001b[0m\n\u001b[0m",
      "\u001b[1;32m~\\anaconda3\\lib\\site-packages\\accelerate\\notebook_launcher.py\u001b[0m in \u001b[0;36mnotebook_launcher\u001b[1;34m(function, args, num_processes, use_fp16, use_port)\u001b[0m\n\u001b[0;32m    116\u001b[0m             \u001b[1;32mtry\u001b[0m\u001b[1;33m:\u001b[0m\u001b[1;33m\u001b[0m\u001b[1;33m\u001b[0m\u001b[0m\n\u001b[0;32m    117\u001b[0m                 \u001b[0mprint\u001b[0m\u001b[1;33m(\u001b[0m\u001b[1;34mf\"Launching a training on {num_processes} GPUs.\"\u001b[0m\u001b[1;33m)\u001b[0m\u001b[1;33m\u001b[0m\u001b[1;33m\u001b[0m\u001b[0m\n\u001b[1;32m--> 118\u001b[1;33m                 \u001b[0mstart_processes\u001b[0m\u001b[1;33m(\u001b[0m\u001b[0mlauncher\u001b[0m\u001b[1;33m,\u001b[0m \u001b[0margs\u001b[0m\u001b[1;33m=\u001b[0m\u001b[0margs\u001b[0m\u001b[1;33m,\u001b[0m \u001b[0mnprocs\u001b[0m\u001b[1;33m=\u001b[0m\u001b[0mnum_processes\u001b[0m\u001b[1;33m,\u001b[0m \u001b[0mstart_method\u001b[0m\u001b[1;33m=\u001b[0m\u001b[1;34m\"fork\"\u001b[0m\u001b[1;33m)\u001b[0m\u001b[1;33m\u001b[0m\u001b[1;33m\u001b[0m\u001b[0m\n\u001b[0m\u001b[0;32m    119\u001b[0m             \u001b[1;32mfinally\u001b[0m\u001b[1;33m:\u001b[0m\u001b[1;33m\u001b[0m\u001b[1;33m\u001b[0m\u001b[0m\n\u001b[0;32m    120\u001b[0m                 \u001b[1;31m# Clean up the environment variables set.\u001b[0m\u001b[1;33m\u001b[0m\u001b[1;33m\u001b[0m\u001b[0m\n",
      "\u001b[1;32m~\\anaconda3\\lib\\site-packages\\torch\\multiprocessing\\spawn.py\u001b[0m in \u001b[0;36mstart_processes\u001b[1;34m(fn, args, nprocs, join, daemon, start_method)\u001b[0m\n\u001b[0;32m    167\u001b[0m \u001b[1;31m# needed in the future.\u001b[0m\u001b[1;33m\u001b[0m\u001b[1;33m\u001b[0m\u001b[0m\n\u001b[0;32m    168\u001b[0m \u001b[1;32mdef\u001b[0m \u001b[0mstart_processes\u001b[0m\u001b[1;33m(\u001b[0m\u001b[0mfn\u001b[0m\u001b[1;33m,\u001b[0m \u001b[0margs\u001b[0m\u001b[1;33m=\u001b[0m\u001b[1;33m(\u001b[0m\u001b[1;33m)\u001b[0m\u001b[1;33m,\u001b[0m \u001b[0mnprocs\u001b[0m\u001b[1;33m=\u001b[0m\u001b[1;36m1\u001b[0m\u001b[1;33m,\u001b[0m \u001b[0mjoin\u001b[0m\u001b[1;33m=\u001b[0m\u001b[1;32mTrue\u001b[0m\u001b[1;33m,\u001b[0m \u001b[0mdaemon\u001b[0m\u001b[1;33m=\u001b[0m\u001b[1;32mFalse\u001b[0m\u001b[1;33m,\u001b[0m \u001b[0mstart_method\u001b[0m\u001b[1;33m=\u001b[0m\u001b[1;34m'spawn'\u001b[0m\u001b[1;33m)\u001b[0m\u001b[1;33m:\u001b[0m\u001b[1;33m\u001b[0m\u001b[1;33m\u001b[0m\u001b[0m\n\u001b[1;32m--> 169\u001b[1;33m     \u001b[0mmp\u001b[0m \u001b[1;33m=\u001b[0m \u001b[0mmultiprocessing\u001b[0m\u001b[1;33m.\u001b[0m\u001b[0mget_context\u001b[0m\u001b[1;33m(\u001b[0m\u001b[0mstart_method\u001b[0m\u001b[1;33m)\u001b[0m\u001b[1;33m\u001b[0m\u001b[1;33m\u001b[0m\u001b[0m\n\u001b[0m\u001b[0;32m    170\u001b[0m     \u001b[0merror_queues\u001b[0m \u001b[1;33m=\u001b[0m \u001b[1;33m[\u001b[0m\u001b[1;33m]\u001b[0m\u001b[1;33m\u001b[0m\u001b[1;33m\u001b[0m\u001b[0m\n\u001b[0;32m    171\u001b[0m     \u001b[0mprocesses\u001b[0m \u001b[1;33m=\u001b[0m \u001b[1;33m[\u001b[0m\u001b[1;33m]\u001b[0m\u001b[1;33m\u001b[0m\u001b[1;33m\u001b[0m\u001b[0m\n",
      "\u001b[1;32m~\\anaconda3\\lib\\multiprocessing\\context.py\u001b[0m in \u001b[0;36mget_context\u001b[1;34m(self, method)\u001b[0m\n\u001b[0;32m    237\u001b[0m             \u001b[1;32mreturn\u001b[0m \u001b[0mself\u001b[0m\u001b[1;33m.\u001b[0m\u001b[0m_actual_context\u001b[0m\u001b[1;33m\u001b[0m\u001b[1;33m\u001b[0m\u001b[0m\n\u001b[0;32m    238\u001b[0m         \u001b[1;32melse\u001b[0m\u001b[1;33m:\u001b[0m\u001b[1;33m\u001b[0m\u001b[1;33m\u001b[0m\u001b[0m\n\u001b[1;32m--> 239\u001b[1;33m             \u001b[1;32mreturn\u001b[0m \u001b[0msuper\u001b[0m\u001b[1;33m(\u001b[0m\u001b[1;33m)\u001b[0m\u001b[1;33m.\u001b[0m\u001b[0mget_context\u001b[0m\u001b[1;33m(\u001b[0m\u001b[0mmethod\u001b[0m\u001b[1;33m)\u001b[0m\u001b[1;33m\u001b[0m\u001b[1;33m\u001b[0m\u001b[0m\n\u001b[0m\u001b[0;32m    240\u001b[0m \u001b[1;33m\u001b[0m\u001b[0m\n\u001b[0;32m    241\u001b[0m     \u001b[1;32mdef\u001b[0m \u001b[0mset_start_method\u001b[0m\u001b[1;33m(\u001b[0m\u001b[0mself\u001b[0m\u001b[1;33m,\u001b[0m \u001b[0mmethod\u001b[0m\u001b[1;33m,\u001b[0m \u001b[0mforce\u001b[0m\u001b[1;33m=\u001b[0m\u001b[1;32mFalse\u001b[0m\u001b[1;33m)\u001b[0m\u001b[1;33m:\u001b[0m\u001b[1;33m\u001b[0m\u001b[1;33m\u001b[0m\u001b[0m\n",
      "\u001b[1;32m~\\anaconda3\\lib\\multiprocessing\\context.py\u001b[0m in \u001b[0;36mget_context\u001b[1;34m(self, method)\u001b[0m\n\u001b[0;32m    191\u001b[0m             \u001b[0mctx\u001b[0m \u001b[1;33m=\u001b[0m \u001b[0m_concrete_contexts\u001b[0m\u001b[1;33m[\u001b[0m\u001b[0mmethod\u001b[0m\u001b[1;33m]\u001b[0m\u001b[1;33m\u001b[0m\u001b[1;33m\u001b[0m\u001b[0m\n\u001b[0;32m    192\u001b[0m         \u001b[1;32mexcept\u001b[0m \u001b[0mKeyError\u001b[0m\u001b[1;33m:\u001b[0m\u001b[1;33m\u001b[0m\u001b[1;33m\u001b[0m\u001b[0m\n\u001b[1;32m--> 193\u001b[1;33m             \u001b[1;32mraise\u001b[0m \u001b[0mValueError\u001b[0m\u001b[1;33m(\u001b[0m\u001b[1;34m'cannot find context for %r'\u001b[0m \u001b[1;33m%\u001b[0m \u001b[0mmethod\u001b[0m\u001b[1;33m)\u001b[0m \u001b[1;32mfrom\u001b[0m \u001b[1;32mNone\u001b[0m\u001b[1;33m\u001b[0m\u001b[1;33m\u001b[0m\u001b[0m\n\u001b[0m\u001b[0;32m    194\u001b[0m         \u001b[0mctx\u001b[0m\u001b[1;33m.\u001b[0m\u001b[0m_check_available\u001b[0m\u001b[1;33m(\u001b[0m\u001b[1;33m)\u001b[0m\u001b[1;33m\u001b[0m\u001b[1;33m\u001b[0m\u001b[0m\n\u001b[0;32m    195\u001b[0m         \u001b[1;32mreturn\u001b[0m \u001b[0mctx\u001b[0m\u001b[1;33m\u001b[0m\u001b[1;33m\u001b[0m\u001b[0m\n",
      "\u001b[1;31mValueError\u001b[0m: cannot find context for 'fork'"
     ]
    }
   ],
   "source": [
    "notebook_launcher(train_seq_model, num_processes=2)"
   ]
  },
  {
   "cell_type": "code",
   "execution_count": null,
   "metadata": {},
   "outputs": [],
   "source": []
  }
 ],
 "metadata": {
  "accelerator": "GPU",
  "colab": {
   "authorship_tag": "ABX9TyPVeIoEeRd71qcc9HwIXJtS",
   "name": "recsys.ipynb",
   "provenance": []
  },
  "kernelspec": {
   "display_name": "Python 3 (ipykernel)",
   "language": "python",
   "name": "python3"
  },
  "language_info": {
   "codemirror_mode": {
    "name": "ipython",
    "version": 3
   },
   "file_extension": ".py",
   "mimetype": "text/x-python",
   "name": "python",
   "nbconvert_exporter": "python",
   "pygments_lexer": "ipython3",
   "version": "3.9.7"
  }
 },
 "nbformat": 4,
 "nbformat_minor": 1
}
